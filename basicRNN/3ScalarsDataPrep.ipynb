{
 "cells": [
  {
   "cell_type": "code",
   "execution_count": 1,
   "id": "99061d6d-c3e2-4582-9ac9-b0c7db66d974",
   "metadata": {},
   "outputs": [],
   "source": [
    "import pandas as pd\n",
    "import os\n",
    "import torch\n",
    "import numpy as np\n",
    "import matplotlib.pyplot as plt\n",
    "import time"
   ]
  },
  {
   "cell_type": "code",
   "execution_count": 2,
   "id": "52388a5b-ecae-4a93-8b21-ca48d9b5495b",
   "metadata": {},
   "outputs": [],
   "source": [
    "data_path = '/raid1/ml4ao/torch_format_data/full/'\n",
    "output_path = '/raid1/ml4ao/torch_data/'"
   ]
  },
  {
   "cell_type": "code",
   "execution_count": 3,
   "id": "66aa83fc-0d6c-4f86-bf58-ac7e3206a482",
   "metadata": {},
   "outputs": [],
   "source": [
    "output_data_name = 'tensor_data_olmodes4'\n",
    "labels_data_name = 'tensor_data_labels4'"
   ]
  },
  {
   "cell_type": "code",
   "execution_count": 4,
   "id": "039fd578-415c-4490-9cb4-3b9b15e8c264",
   "metadata": {},
   "outputs": [],
   "source": [
    "filenames= ['comm', 'deltaComm', 'SEEING', 'ATMO_l0', 'ATMO_heigths', 'ATMO_cn2', 'WIND_SPEED', 'srRes']"
   ]
  },
  {
   "cell_type": "code",
   "execution_count": 5,
   "id": "3ae94314-fc00-4fc6-87f0-f033b3c5d1d6",
   "metadata": {},
   "outputs": [
    {
     "name": "stdout",
     "output_type": "stream",
     "text": [
      "/raid1/ml4ao/torch_format_data/full/comm_0.pl\n",
      "torch.Size([1000, 500, 1801])\n",
      "/raid1/ml4ao/torch_format_data/full/deltaComm_0.pl\n",
      "torch.Size([1000, 500, 1801])\n",
      "/raid1/ml4ao/torch_format_data/full/SEEING_0.pl\n",
      "torch.Size([1000])\n",
      "/raid1/ml4ao/torch_format_data/full/ATMO_l0_0.pl\n",
      "torch.Size([1000])\n",
      "/raid1/ml4ao/torch_format_data/full/ATMO_heigths_0.pl\n",
      "torch.Size([1000, 4])\n",
      "/raid1/ml4ao/torch_format_data/full/ATMO_cn2_0.pl\n",
      "torch.Size([1000, 4])\n",
      "/raid1/ml4ao/torch_format_data/full/WIND_SPEED_0.pl\n",
      "torch.Size([1000, 4])\n",
      "/raid1/ml4ao/torch_format_data/full/srRes_0.pl\n",
      "torch.Size([1000, 1801])\n",
      "1000\n",
      "/raid1/ml4ao/torch_format_data/full/comm_1.pl\n",
      "torch.Size([1000, 500, 1801])\n",
      "/raid1/ml4ao/torch_format_data/full/deltaComm_1.pl\n",
      "torch.Size([1000, 500, 1801])\n",
      "/raid1/ml4ao/torch_format_data/full/SEEING_1.pl\n",
      "torch.Size([1000])\n",
      "/raid1/ml4ao/torch_format_data/full/ATMO_l0_1.pl\n",
      "torch.Size([1000])\n",
      "/raid1/ml4ao/torch_format_data/full/ATMO_heigths_1.pl\n",
      "torch.Size([1000, 4])\n",
      "/raid1/ml4ao/torch_format_data/full/ATMO_cn2_1.pl\n",
      "torch.Size([1000, 4])\n",
      "/raid1/ml4ao/torch_format_data/full/WIND_SPEED_1.pl\n",
      "torch.Size([1000, 4])\n",
      "/raid1/ml4ao/torch_format_data/full/srRes_1.pl\n",
      "torch.Size([1000, 1801])\n",
      "1000\n",
      "/raid1/ml4ao/torch_format_data/full/comm_2.pl\n",
      "torch.Size([1000, 500, 1801])\n",
      "/raid1/ml4ao/torch_format_data/full/deltaComm_2.pl\n",
      "torch.Size([1000, 500, 1801])\n",
      "/raid1/ml4ao/torch_format_data/full/SEEING_2.pl\n",
      "torch.Size([1000])\n",
      "/raid1/ml4ao/torch_format_data/full/ATMO_l0_2.pl\n",
      "torch.Size([1000])\n",
      "/raid1/ml4ao/torch_format_data/full/ATMO_heigths_2.pl\n",
      "torch.Size([1000, 4])\n",
      "/raid1/ml4ao/torch_format_data/full/ATMO_cn2_2.pl\n",
      "torch.Size([1000, 4])\n",
      "/raid1/ml4ao/torch_format_data/full/WIND_SPEED_2.pl\n",
      "torch.Size([1000, 4])\n",
      "/raid1/ml4ao/torch_format_data/full/srRes_2.pl\n",
      "torch.Size([1000, 1801])\n",
      "1000\n",
      "/raid1/ml4ao/torch_format_data/full/comm_3.pl\n",
      "torch.Size([1000, 500, 1801])\n",
      "/raid1/ml4ao/torch_format_data/full/deltaComm_3.pl\n",
      "torch.Size([1000, 500, 1801])\n",
      "/raid1/ml4ao/torch_format_data/full/SEEING_3.pl\n",
      "torch.Size([1000])\n",
      "/raid1/ml4ao/torch_format_data/full/ATMO_l0_3.pl\n",
      "torch.Size([1000])\n",
      "/raid1/ml4ao/torch_format_data/full/ATMO_heigths_3.pl\n",
      "torch.Size([1000, 4])\n",
      "/raid1/ml4ao/torch_format_data/full/ATMO_cn2_3.pl\n",
      "torch.Size([1000, 4])\n",
      "/raid1/ml4ao/torch_format_data/full/WIND_SPEED_3.pl\n",
      "torch.Size([1000, 4])\n",
      "/raid1/ml4ao/torch_format_data/full/srRes_3.pl\n",
      "torch.Size([1000, 1801])\n",
      "1000\n",
      "/raid1/ml4ao/torch_format_data/full/comm_4.pl\n",
      "torch.Size([1000, 500, 1801])\n",
      "/raid1/ml4ao/torch_format_data/full/deltaComm_4.pl\n",
      "torch.Size([1000, 500, 1801])\n",
      "/raid1/ml4ao/torch_format_data/full/SEEING_4.pl\n",
      "torch.Size([1000])\n",
      "/raid1/ml4ao/torch_format_data/full/ATMO_l0_4.pl\n",
      "torch.Size([1000])\n",
      "/raid1/ml4ao/torch_format_data/full/ATMO_heigths_4.pl\n",
      "torch.Size([1000, 4])\n",
      "/raid1/ml4ao/torch_format_data/full/ATMO_cn2_4.pl\n",
      "torch.Size([1000, 4])\n",
      "/raid1/ml4ao/torch_format_data/full/WIND_SPEED_4.pl\n",
      "torch.Size([1000, 4])\n",
      "/raid1/ml4ao/torch_format_data/full/srRes_4.pl\n",
      "torch.Size([1000, 1801])\n",
      "1000\n",
      "/raid1/ml4ao/torch_format_data/full/comm_5.pl\n",
      "torch.Size([1000, 500, 1801])\n",
      "/raid1/ml4ao/torch_format_data/full/deltaComm_5.pl\n",
      "torch.Size([1000, 500, 1801])\n",
      "/raid1/ml4ao/torch_format_data/full/SEEING_5.pl\n",
      "torch.Size([1000])\n",
      "/raid1/ml4ao/torch_format_data/full/ATMO_l0_5.pl\n",
      "torch.Size([1000])\n",
      "/raid1/ml4ao/torch_format_data/full/ATMO_heigths_5.pl\n",
      "torch.Size([1000, 4])\n",
      "/raid1/ml4ao/torch_format_data/full/ATMO_cn2_5.pl\n",
      "torch.Size([1000, 4])\n",
      "/raid1/ml4ao/torch_format_data/full/WIND_SPEED_5.pl\n",
      "torch.Size([1000, 4])\n",
      "/raid1/ml4ao/torch_format_data/full/srRes_5.pl\n",
      "torch.Size([1000, 1801])\n",
      "1000\n",
      "/raid1/ml4ao/torch_format_data/full/comm_6.pl\n",
      "torch.Size([1000, 500, 1801])\n",
      "/raid1/ml4ao/torch_format_data/full/deltaComm_6.pl\n",
      "torch.Size([1000, 500, 1801])\n",
      "/raid1/ml4ao/torch_format_data/full/SEEING_6.pl\n",
      "torch.Size([1000])\n",
      "/raid1/ml4ao/torch_format_data/full/ATMO_l0_6.pl\n",
      "torch.Size([1000])\n",
      "/raid1/ml4ao/torch_format_data/full/ATMO_heigths_6.pl\n",
      "torch.Size([1000, 4])\n",
      "/raid1/ml4ao/torch_format_data/full/ATMO_cn2_6.pl\n",
      "torch.Size([1000, 4])\n",
      "/raid1/ml4ao/torch_format_data/full/WIND_SPEED_6.pl\n",
      "torch.Size([1000, 4])\n",
      "/raid1/ml4ao/torch_format_data/full/srRes_6.pl\n",
      "torch.Size([1000, 1801])\n",
      "1000\n",
      "/raid1/ml4ao/torch_format_data/full/comm_7.pl\n",
      "torch.Size([1000, 500, 1801])\n",
      "/raid1/ml4ao/torch_format_data/full/deltaComm_7.pl\n",
      "torch.Size([1000, 500, 1801])\n",
      "/raid1/ml4ao/torch_format_data/full/SEEING_7.pl\n",
      "torch.Size([1000])\n",
      "/raid1/ml4ao/torch_format_data/full/ATMO_l0_7.pl\n",
      "torch.Size([1000])\n",
      "/raid1/ml4ao/torch_format_data/full/ATMO_heigths_7.pl\n",
      "torch.Size([1000, 4])\n",
      "/raid1/ml4ao/torch_format_data/full/ATMO_cn2_7.pl\n",
      "torch.Size([1000, 4])\n",
      "/raid1/ml4ao/torch_format_data/full/WIND_SPEED_7.pl\n",
      "torch.Size([1000, 4])\n",
      "/raid1/ml4ao/torch_format_data/full/srRes_7.pl\n",
      "torch.Size([1000, 1801])\n",
      "1000\n",
      "/raid1/ml4ao/torch_format_data/full/comm_8.pl\n",
      "torch.Size([1000, 500, 1801])\n",
      "/raid1/ml4ao/torch_format_data/full/deltaComm_8.pl\n",
      "torch.Size([1000, 500, 1801])\n",
      "/raid1/ml4ao/torch_format_data/full/SEEING_8.pl\n",
      "torch.Size([1000])\n",
      "/raid1/ml4ao/torch_format_data/full/ATMO_l0_8.pl\n",
      "torch.Size([1000])\n",
      "/raid1/ml4ao/torch_format_data/full/ATMO_heigths_8.pl\n",
      "torch.Size([1000, 4])\n",
      "/raid1/ml4ao/torch_format_data/full/ATMO_cn2_8.pl\n",
      "torch.Size([1000, 4])\n",
      "/raid1/ml4ao/torch_format_data/full/WIND_SPEED_8.pl\n",
      "torch.Size([1000, 4])\n",
      "/raid1/ml4ao/torch_format_data/full/srRes_8.pl\n",
      "torch.Size([1000, 1801])\n",
      "1000\n",
      "/raid1/ml4ao/torch_format_data/full/comm_9.pl\n",
      "torch.Size([199, 500, 1801])\n",
      "/raid1/ml4ao/torch_format_data/full/deltaComm_9.pl\n",
      "torch.Size([199, 500, 1801])\n",
      "/raid1/ml4ao/torch_format_data/full/SEEING_9.pl\n",
      "torch.Size([199])\n",
      "/raid1/ml4ao/torch_format_data/full/ATMO_l0_9.pl\n",
      "torch.Size([199])\n",
      "/raid1/ml4ao/torch_format_data/full/ATMO_heigths_9.pl\n",
      "torch.Size([199, 4])\n",
      "/raid1/ml4ao/torch_format_data/full/ATMO_cn2_9.pl\n",
      "torch.Size([199, 4])\n",
      "/raid1/ml4ao/torch_format_data/full/WIND_SPEED_9.pl\n",
      "torch.Size([199, 4])\n",
      "/raid1/ml4ao/torch_format_data/full/srRes_9.pl\n",
      "torch.Size([199, 1801])\n",
      "199\n"
     ]
    }
   ],
   "source": [
    "indata = {}\n",
    "for idx in range(10):\n",
    "    for ff in filenames:\n",
    "        time.sleep(1)\n",
    "        filename = os.path.join(data_path, ff+'_'+str(idx)+'.pl')\n",
    "        print(filename)\n",
    "        if os.path.exists(filename):\n",
    "            # load and substitute nan with 0\n",
    "            moreData = torch.nan_to_num(torch.load(filename))\n",
    "            indata[ff] = moreData\n",
    "            print(indata[ff].shape)\n",
    "        else:\n",
    "            break\n",
    "    nTNs = indata['SEEING'].shape[0]\n",
    "    print(nTNs)\n",
    "    # compute tau0\n",
    "    r0 = 0.9759 * 0.5 / (indata['SEEING'] * 4.848)\n",
    "    v = indata['WIND_SPEED']\n",
    "    wind_speed_average = torch.mean(v, dim=1)\n",
    "    tau0 = 0.314 * r0 / wind_speed_average * 1e3\n",
    "    # compute ol_modes\n",
    "    ol_modes = indata['deltaComm'][:,2:,:200] + indata['comm'][:,:-2,:200]\n",
    "\n",
    "    labels4 = torch.empty(nTNs, 4)\n",
    "    labels4[:, 0] = indata['SEEING']\n",
    "    labels4[:, 1] = indata['ATMO_l0']\n",
    "    labels4[:, 2] = tau0\n",
    "    labels4[:, 3] = torch.mean(indata['srRes'][:,20:],dim=1)\n",
    "\n",
    "    torch.save(ol_modes, os.path.join(output_path, output_data_name) + '_'+str(idx)+'.pt')\n",
    "    torch.save(labels4, os.path.join(output_path, labels_data_name) + '_'+str(idx)+'.pt')"
   ]
  },
  {
   "cell_type": "code",
   "execution_count": 6,
   "id": "e9ce4ad0-512e-4eea-997b-727034782820",
   "metadata": {},
   "outputs": [],
   "source": [
    "ol_modes = None\n",
    "labels4 = None\n",
    "for idx in range(10):    \n",
    "    ol_modes_i = torch.load(os.path.join(output_path, output_data_name) + '_'+str(idx)+'.pt')\n",
    "    labels4_i = torch.load(os.path.join(output_path, labels_data_name) + '_'+str(idx)+'.pt')\n",
    "    if idx==0:\n",
    "        ol_modes = ol_modes_i\n",
    "        labels4 = labels4_i\n",
    "    else:\n",
    "        ol_modes = torch.cat((ol_modes, ol_modes_i))\n",
    "        labels4 = torch.cat((labels4, labels4_i))\n",
    "\n",
    "torch.save(ol_modes, os.path.join(output_path, output_data_name) + '.pt')\n",
    "torch.save(labels4, os.path.join(output_path, labels_data_name) + '.pt')"
   ]
  },
  {
   "cell_type": "code",
   "execution_count": 7,
   "id": "99bd306c-0a8d-441d-9fce-45a2d61ca944",
   "metadata": {},
   "outputs": [
    {
     "name": "stdout",
     "output_type": "stream",
     "text": [
      "0 mean,std: (tensor(0.2812), tensor(1.0183))\n"
     ]
    },
    {
     "data": {
      "image/png": "[encoded data removed]",
      "text/plain": [
       "<Figure size 432x288 with 1 Axes>"
      ]
     },
     "metadata": {
      "needs_background": "light"
     },
     "output_type": "display_data"
    },
    {
     "name": "stdout",
     "output_type": "stream",
     "text": [
      "1 mean,std: (tensor(6.5571), tensor(21.4154))\n"
     ]
    },
    {
     "data": {
      "image/png": "[encoded data removed]",
      "text/plain": [
       "<Figure size 432x288 with 1 Axes>"
      ]
     },
     "metadata": {
      "needs_background": "light"
     },
     "output_type": "display_data"
    },
    {
     "name": "stdout",
     "output_type": "stream",
     "text": [
      "2 mean,std: (tensor(0.6689), tensor(1.9411))\n"
     ]
    },
    {
     "data": {
      "image/png": "[encoded data removed]",
      "text/plain": [
       "<Figure size 432x288 with 1 Axes>"
      ]
     },
     "metadata": {
      "needs_background": "light"
     },
     "output_type": "display_data"
    },
    {
     "name": "stdout",
     "output_type": "stream",
     "text": [
      "3 mean,std: (tensor(0.0995), tensor(0.7996))\n"
     ]
    },
    {
     "data": {
      "image/png": "[encoded data removed]",
      "text/plain": [
       "<Figure size 432x288 with 1 Axes>"
      ]
     },
     "metadata": {
      "needs_background": "light"
     },
     "output_type": "display_data"
    }
   ],
   "source": [
    "for ll in range(4):\n",
    "    print(ll, 'mean,std:', torch.std_mean(labels4[:, ll]))\n",
    "    lv = labels4[:, ll].numpy()\n",
    "    num_bins = 20 # <-- Change here - Specify total number of bins for histogram\n",
    "    plt.hist(lv.ravel(), bins=np.linspace(np.min(lv), np.max(lv), num=num_bins)) #<-- Change here.  Note the use of ravel.\n",
    "    plt.show()"
   ]
  },
  {
   "cell_type": "code",
   "execution_count": null,
   "id": "70ca9af8-f80b-4da5-a8f0-01d9a685e547",
   "metadata": {},
   "outputs": [],
   "source": []
  },
  {
   "cell_type": "code",
   "execution_count": null,
   "id": "6d0c67d2-777b-496b-b0bb-0a89fecb63bc",
   "metadata": {},
   "outputs": [],
   "source": []
  }
 ],
 "metadata": {
  "kernelspec": {
   "display_name": "Python 3 (ipykernel)",
   "language": "python",
   "name": "python3"
  },
  "language_info": {
   "codemirror_mode": {
    "name": "ipython",
    "version": 3
   },
   "file_extension": ".py",
   "mimetype": "text/x-python",
   "name": "python",
   "nbconvert_exporter": "python",
   "pygments_lexer": "ipython3",
   "version": "3.11.4"
  }
 },
 "nbformat": 4,
 "nbformat_minor": 5
}
