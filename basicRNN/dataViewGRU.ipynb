{
 "cells": [
  {
   "cell_type": "code",
   "execution_count": 1,
   "metadata": {},
   "outputs": [],
   "source": [
    "import pandas as pd\n",
    "import os\n",
    "import torch\n",
    "import matplotlib.pyplot as plt"
   ]
  },
  {
   "cell_type": "code",
   "execution_count": 2,
   "metadata": {},
   "outputs": [
    {
     "name": "stdout",
     "output_type": "stream",
     "text": [
      "cuda\n"
     ]
    }
   ],
   "source": [
    "from basicRNN import *\n",
    "print(device)"
   ]
  },
  {
   "cell_type": "code",
   "execution_count": 3,
   "metadata": {},
   "outputs": [
    {
     "name": "stdout",
     "output_type": "stream",
     "text": [
      "self.spacing 4\n",
      "data.shape torch.Size([4992, 120, 50])\n",
      "labels.shape torch.Size([4992, 1])\n",
      "labels scales tensor([50.])\n"
     ]
    },
    {
     "data": {
      "image/png": "[encoded data removed]",
      "text/plain": [
       "<Figure size 432x288 with 1 Axes>"
      ]
     },
     "metadata": {
      "needs_background": "light"
     },
     "output_type": "display_data"
    },
    {
     "name": "stdout",
     "output_type": "stream",
     "text": [
      "labels scales tensor([0.4286])\n",
      "train_dataset 3994\n",
      "test_dataset 998\n"
     ]
    }
   ],
   "source": [
    "ts = trainingService('paramsConfigGRU.yml')\n",
    "ts.loadData()"
   ]
  },
  {
   "cell_type": "code",
   "execution_count": 4,
   "metadata": {},
   "outputs": [],
   "source": [
    "ts.setupModel()"
   ]
  },
  {
   "cell_type": "code",
   "execution_count": 5,
   "metadata": {},
   "outputs": [],
   "source": [
    "# ts.loadModel()"
   ]
  },
  {
   "cell_type": "code",
   "execution_count": 6,
   "metadata": {},
   "outputs": [
    {
     "name": "stdout",
     "output_type": "stream",
     "text": [
      "Epoch [5/50]], Loss: 0.019710, , Loss Val: 0.013237\n",
      "Epoch [10/50]], Loss: 0.019388, , Loss Val: 0.016493\n",
      "Epoch [15/50]], Loss: 0.017326, , Loss Val: 0.017108\n",
      "Epoch [20/50]], Loss: 0.021349, , Loss Val: 0.013057\n",
      "Epoch [25/50]], Loss: 0.013827, , Loss Val: 0.014706\n",
      "Epoch [30/50]], Loss: 0.017105, , Loss Val: 0.015277\n",
      "Epoch [35/50]], Loss: 0.014731, , Loss Val: 0.015082\n",
      "Epoch [40/50]], Loss: 0.015010, , Loss Val: 0.024417\n",
      "Epoch [45/50]], Loss: 0.016464, , Loss Val: 0.013403\n",
      "Epoch [50/50]], Loss: 0.020399, , Loss Val: 0.020187\n",
      "Epoch [5/100]], Loss: 0.015938, , Loss Val: 0.012972\n",
      "Epoch [10/100]], Loss: 0.018004, , Loss Val: 0.009740\n",
      "Epoch [15/100]], Loss: 0.015795, , Loss Val: 0.015495\n",
      "Epoch [20/100]], Loss: 0.016230, , Loss Val: 0.012899\n",
      "Epoch [25/100]], Loss: 0.018301, , Loss Val: 0.019063\n",
      "Epoch [30/100]], Loss: 0.012496, , Loss Val: 0.019703\n",
      "Epoch [35/100]], Loss: 0.019277, , Loss Val: 0.015044\n",
      "Epoch [40/100]], Loss: 0.017166, , Loss Val: 0.018046\n",
      "Epoch [45/100]], Loss: 0.009969, , Loss Val: 0.015774\n",
      "Epoch [50/100]], Loss: 0.014852, , Loss Val: 0.014650\n",
      "Epoch [55/100]], Loss: 0.015816, , Loss Val: 0.010663\n",
      "Epoch [60/100]], Loss: 0.016422, , Loss Val: 0.014861\n",
      "Epoch [65/100]], Loss: 0.016717, , Loss Val: 0.012337\n",
      "Epoch [70/100]], Loss: 0.019609, , Loss Val: 0.016940\n",
      "Epoch [75/100]], Loss: 0.015403, , Loss Val: 0.015239\n",
      "Epoch [80/100]], Loss: 0.013662, , Loss Val: 0.021718\n",
      "Epoch [85/100]], Loss: 0.020314, , Loss Val: 0.015613\n",
      "Epoch [90/100]], Loss: 0.015093, , Loss Val: 0.013651\n",
      "Epoch [95/100]], Loss: 0.017970, , Loss Val: 0.014080\n",
      "Epoch [100/100]], Loss: 0.020434, , Loss Val: 0.018459\n",
      "Epoch [5/200]], Loss: 0.024419, , Loss Val: 0.017243\n",
      "Epoch [10/200]], Loss: 0.014678, , Loss Val: 0.017699\n",
      "Epoch [15/200]], Loss: 0.015011, , Loss Val: 0.022160\n",
      "Epoch [20/200]], Loss: 0.016674, , Loss Val: 0.014882\n",
      "Epoch [25/200]], Loss: 0.013448, , Loss Val: 0.017434\n",
      "Epoch [30/200]], Loss: 0.023283, , Loss Val: 0.014456\n",
      "Epoch [35/200]], Loss: 0.014090, , Loss Val: 0.013610\n",
      "Epoch [40/200]], Loss: 0.014670, , Loss Val: 0.012877\n",
      "Epoch [45/200]], Loss: 0.021721, , Loss Val: 0.016065\n",
      "Epoch [50/200]], Loss: 0.016699, , Loss Val: 0.015345\n",
      "Epoch [55/200]], Loss: 0.021717, , Loss Val: 0.015261\n",
      "Epoch [60/200]], Loss: 0.015599, , Loss Val: 0.015174\n",
      "Epoch [65/200]], Loss: 0.014422, , Loss Val: 0.021674\n",
      "Epoch [70/200]], Loss: 0.016185, , Loss Val: 0.010858\n",
      "Epoch [75/200]], Loss: 0.021206, , Loss Val: 0.013475\n",
      "Epoch [80/200]], Loss: 0.014623, , Loss Val: 0.016345\n",
      "Epoch [85/200]], Loss: 0.019383, , Loss Val: 0.022247\n",
      "Epoch [90/200]], Loss: 0.019722, , Loss Val: 0.011955\n",
      "Epoch [95/200]], Loss: 0.014198, , Loss Val: 0.024935\n"
     ]
    },
    {
     "ename": "KeyboardInterrupt",
     "evalue": "",
     "output_type": "error",
     "traceback": [
      "\u001b[0;31m---------------------------------------------------------------------------\u001b[0m",
      "\u001b[0;31mKeyboardInterrupt\u001b[0m                         Traceback (most recent call last)",
      "Cell \u001b[0;32mIn[6], line 3\u001b[0m\n\u001b[1;32m      1\u001b[0m ts\u001b[38;5;241m.\u001b[39mtrainModel(learning_rate\u001b[38;5;241m=\u001b[39m\u001b[38;5;241m1e-3\u001b[39m, weight_decay\u001b[38;5;241m=\u001b[39m\u001b[38;5;241m0.5e-3\u001b[39m, num_epochs\u001b[38;5;241m=\u001b[39m\u001b[38;5;241m50\u001b[39m)\n\u001b[1;32m      2\u001b[0m ts\u001b[38;5;241m.\u001b[39mtrainModel(learning_rate\u001b[38;5;241m=\u001b[39m\u001b[38;5;241m1e-4\u001b[39m, weight_decay\u001b[38;5;241m=\u001b[39m\u001b[38;5;241m0.5e-4\u001b[39m, num_epochs\u001b[38;5;241m=\u001b[39m\u001b[38;5;241m100\u001b[39m)\n\u001b[0;32m----> 3\u001b[0m ts\u001b[38;5;241m.\u001b[39mtrainModel(learning_rate\u001b[38;5;241m=\u001b[39m\u001b[38;5;241m1e-5\u001b[39m, weight_decay\u001b[38;5;241m=\u001b[39m\u001b[38;5;241m0.5e-5\u001b[39m, num_epochs\u001b[38;5;241m=\u001b[39m\u001b[38;5;241m200\u001b[39m)\n\u001b[1;32m      4\u001b[0m ts\u001b[38;5;241m.\u001b[39mtrainModel(learning_rate\u001b[38;5;241m=\u001b[39m\u001b[38;5;241m0.5e-5\u001b[39m, weight_decay\u001b[38;5;241m=\u001b[39m\u001b[38;5;241m0.5e-5\u001b[39m, num_epochs\u001b[38;5;241m=\u001b[39m\u001b[38;5;241m200\u001b[39m)\n",
      "File \u001b[0;32m~/dev/ml4ao/basicRNN/basicRNN.py:321\u001b[0m, in \u001b[0;36mtrainingService.trainModel\u001b[0;34m(self, learning_rate, weight_decay, num_epochs)\u001b[0m\n\u001b[1;32m    319\u001b[0m     loss\u001b[38;5;241m.\u001b[39mbackward()\n\u001b[1;32m    320\u001b[0m     \u001b[38;5;28mself\u001b[39m\u001b[38;5;241m.\u001b[39moptimizer\u001b[38;5;241m.\u001b[39mstep()\n\u001b[0;32m--> 321\u001b[0m     running_loss1 \u001b[38;5;241m+\u001b[39m\u001b[38;5;241m=\u001b[39m loss\u001b[38;5;241m.\u001b[39mcpu()\u001b[38;5;241m.\u001b[39mitem()\n\u001b[1;32m    322\u001b[0m running_loss1 \u001b[38;5;241m=\u001b[39m  running_loss1 \u001b[38;5;241m/\u001b[39m (\u001b[38;5;28mself\u001b[39m\u001b[38;5;241m.\u001b[39mdata_loader\u001b[38;5;241m.\u001b[39mtrain_size \u001b[38;5;241m/\u001b[39m \u001b[38;5;28mself\u001b[39m\u001b[38;5;241m.\u001b[39mbatch_size)\n\u001b[1;32m    324\u001b[0m \u001b[38;5;28;01mif\u001b[39;00m (epoch\u001b[38;5;241m+\u001b[39m\u001b[38;5;241m1\u001b[39m) \u001b[38;5;241m%\u001b[39m \u001b[38;5;241m5\u001b[39m \u001b[38;5;241m==\u001b[39m \u001b[38;5;241m0\u001b[39m:        \n",
      "\u001b[0;31mKeyboardInterrupt\u001b[0m: "
     ]
    }
   ],
   "source": [
    "ts.trainModel(learning_rate=1e-3, weight_decay=0.5e-3, num_epochs=50)\n",
    "ts.trainModel(learning_rate=1e-4, weight_decay=0.5e-4, num_epochs=100)\n",
    "ts.trainModel(learning_rate=1e-5, weight_decay=0.5e-5, num_epochs=200)\n",
    "ts.trainModel(learning_rate=0.5e-5, weight_decay=0.5e-5, num_epochs=200)"
   ]
  },
  {
   "cell_type": "code",
   "execution_count": null,
   "metadata": {},
   "outputs": [],
   "source": [
    "ts.saveModel()"
   ]
  },
  {
   "cell_type": "code",
   "execution_count": null,
   "metadata": {},
   "outputs": [],
   "source": [
    "ts.model.eval()\n",
    "test_errors = []\n",
    "test_labels = []\n",
    "test_predictions = []\n",
    "\n",
    "running_loss1 = 0.0\n",
    "with torch.no_grad():  # No need to track gradients during evaluation\n",
    "    for i, (inputsT, labelsT) in enumerate(ts.test_loader):\n",
    "        inputsT = inputsT.to(device)\n",
    "        labelsT = labelsT.to(device)\n",
    "        outputsT = ts.model(inputsT)\n",
    "        errorsT = outputsT - labelsT        \n",
    "        test_errors.extend(errorsT.cpu().numpy())\n",
    "        test_labels.extend(labelsT.view(-1).tolist())\n",
    "        test_predictions.extend(outputsT.view(-1).tolist())\n",
    "        lossV = ts.criterion(outputsT, labelsT)\n",
    "        running_loss1 += lossV.cpu().item()\n",
    "\n",
    "train_errors = []\n",
    "train_labels = []\n",
    "train_predictions = []\n",
    "with torch.no_grad():  # No need to track gradients during evaluation\n",
    "    for i, (inputs, labels) in enumerate(ts.train_loader):\n",
    "        inputs = inputs.to(device) \n",
    "        labels = labels.to(device)\n",
    "        outputs = ts.model(inputs)\n",
    "        # Compute the error for each sample\n",
    "        errors = outputs - labels\n",
    "        train_errors.extend(errors.view(-1).tolist())\n",
    "        train_labels.extend(labels.view(-1).tolist())\n",
    "        train_predictions.extend(outputs.view(-1).tolist())\n",
    "        if i==0:\n",
    "            pp = inputs[1].cpu().numpy()\n",
    "            plt.plot(pp)\n",
    "            plt.show()\n",
    "\n",
    "#plt.plot(test_errors1)\n",
    "#plt.plot(train_errors)\n",
    "#plt.show()\n",
    "test_labels = np.array(test_labels)\n",
    "train_labels = np.array(train_labels)\n",
    "test_predictions = np.array(test_predictions)\n",
    "train_predictions = np.array(train_predictions)\n",
    "\n",
    "plt.scatter(test_labels, test_predictions)\n",
    "plt.scatter(train_labels, train_predictions)\n",
    "\n",
    "plt.scatter(test_labels, test_labels)\n",
    "\n",
    "test_abs_errors = np.abs(test_errors)\n",
    "train_abs_errors = np.abs(train_errors)\n",
    "print(\"Mean/Median Absolute error TEST:\", np.mean(test_abs_errors), np.median(test_abs_errors))\n",
    "print(\"Mean/Median Absolute error TRAIN:\", np.mean(train_abs_errors), np.median(train_abs_errors))\n",
    "\n",
    "print(\"R^2\", 1-np.mean(np.square(test_abs_errors))/np.var(test_labels))\n",
    "\n",
    "test_labels[test_labels == 0.0] = 1\n",
    "train_labels[train_labels == 0.0] = 1\n",
    "print(\"Mean Relative error TEST:\", np.mean(np.abs(test_errors)/np.abs(test_labels)))\n",
    "print(\"Mean Relative error TRAIN:\", np.mean(np.abs(train_errors)/np.abs(train_labels)))\n",
    "#plt.ylim(0, 1)\n",
    "#plt.xlim(0, 1)\n",
    "plt.show()"
   ]
  },
  {
   "cell_type": "code",
   "execution_count": null,
   "metadata": {},
   "outputs": [],
   "source": [
    "# Example usage\n",
    "#ts.criterion = nn.MSELoss(reduction='none')  # Set reduction='none' to get individual errors\n",
    "test_errors, test_labels, test_predictions = ts.testModel()\n",
    "plt.plot(test_errors)\n",
    "plt.show()\n",
    "print(np.mean(np.abs(test_errors)))\n",
    "plt.scatter(test_labels, test_predictions)"
   ]
  },
  {
   "cell_type": "code",
   "execution_count": null,
   "metadata": {},
   "outputs": [],
   "source": [
    "print( torch.std_mean(ts.data_loader.labels) )\n",
    "olStd, olMean  = torch.std_mean(ts.data_loader.data, dim=1 )\n",
    "#print( ts.data_loader.labels )\n",
    "#print( olMean )\n",
    "#print( olStd )\n",
    "print( olMean.shape, olStd.shape )"
   ]
  },
  {
   "cell_type": "code",
   "execution_count": null,
   "metadata": {},
   "outputs": [],
   "source": [
    "import matplotlib.pyplot as plt\n",
    "\n",
    "bins = 20\n",
    "t = torch.tensor([0., 0., 1., 1., 0., 1., 1., 0., 0., 0.])\n",
    "hist = torch.histc(ts.data_loader.labels, bins=bins, min=0, max=2)\n",
    "x = range(bins)\n",
    "plt.bar(x, hist, align='center')\n",
    "plt.xlabel('Bins')"
   ]
  },
  {
   "cell_type": "code",
   "execution_count": null,
   "metadata": {},
   "outputs": [],
   "source": [
    "print( ts.data_loader.labels.shape )\n",
    "print( olMean[:,0].shape)\n",
    "#print( olStd )\n",
    "#plt.scatter(torch.sqrt(torch.sum(torch.square(olMean), axis=1)), ts.data_loader.labels )\n",
    "plt.scatter(torch.sum(torch.square(olStd), axis=1), ts.data_loader.labels, s=4 )\n",
    "plt.ylim(0, 2.)\n",
    "plt.xlim(0, 2000*1000)\n",
    "plt.show()"
   ]
  },
  {
   "cell_type": "code",
   "execution_count": null,
   "metadata": {},
   "outputs": [],
   "source": [
    "#print( olStd )\n",
    "olStd[390,:] = 0\n",
    "\n",
    "plt.plot(olStd[:,0])\n",
    "plt.plot(olStd[:,1])\n",
    "plt.plot(olStd[:,2])\n",
    "plt.plot(olStd[:,3])\n",
    "plt.ylim(0, 2000)\n",
    "\n",
    "plt.show()"
   ]
  },
  {
   "cell_type": "code",
   "execution_count": null,
   "metadata": {},
   "outputs": [],
   "source": [
    "import torch.nn.functional as F\n",
    "\n",
    "alldata = ts.data_loader.data.numpy()\n",
    "print(alldata.shape)\n",
    "red1 = np.sqrt(np.sum(np.square(ts.data_loader.data.numpy()), axis=1))\n",
    "print(red1.shape)\n",
    "pp_sum = np.mean(red1, axis=0)\n",
    "print(pp_sum.shape)\n",
    "plt.plot(np.log(pp_sum))\n",
    "plt.show()\n",
    "\n",
    "for ii in range(0,10,1):\n",
    "    pp = ts.data_loader.data[77, :, ii].numpy()\n",
    "    plt.plot(pp)\n",
    "\n",
    "plt.show()\n",
    "\n",
    "#for ii in range(10):\n",
    "#    plt.plot(torch.sqrt(torch.sum(torch.square(ts.data_loader.data[ii, :, :]), axis=1)))\n",
    "#    plt.axhline(y=ts.data_loader.labels[ii].data*1e3, color='r', linestyle='-')\n",
    "#    plt.show()\n",
    "\n",
    "#plt.plot(ts.data_loader.data[77, :, 4])\n",
    "#plt.plot(ts.data_loader.data[77, :, 5])\n"
   ]
  },
  {
   "cell_type": "code",
   "execution_count": null,
   "metadata": {},
   "outputs": [],
   "source": []
  }
 ],
 "metadata": {
  "kernelspec": {
   "display_name": "Python 3 (ipykernel)",
   "language": "python",
   "name": "python3"
  },
  "language_info": {
   "codemirror_mode": {
    "name": "ipython",
    "version": 3
   },
   "file_extension": ".py",
   "mimetype": "text/x-python",
   "name": "python",
   "nbconvert_exporter": "python",
   "pygments_lexer": "ipython3",
   "version": "3.11.4"
  }
 },
 "nbformat": 4,
 "nbformat_minor": 4
}
