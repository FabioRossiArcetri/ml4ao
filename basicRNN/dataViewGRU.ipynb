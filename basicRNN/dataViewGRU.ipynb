{
 "cells": [
  {
   "cell_type": "code",
   "execution_count": 1,
   "metadata": {},
   "outputs": [],
   "source": [
    "import pandas as pd\n",
    "import os\n",
    "import torch\n",
    "import matplotlib.pyplot as plt"
   ]
  },
  {
   "cell_type": "code",
   "execution_count": 2,
   "metadata": {},
   "outputs": [
    {
     "name": "stdout",
     "output_type": "stream",
     "text": [
      "cuda\n"
     ]
    }
   ],
   "source": [
    "from basicRNN import *\n",
    "print(device)"
   ]
  },
  {
   "cell_type": "code",
   "execution_count": null,
   "metadata": {},
   "outputs": [
    {
     "name": "stdout",
     "output_type": "stream",
     "text": [
      "dataOrig.shape torch.Size([10000, 1716, 500])\n",
      "data.shape torch.Size([9999, 1376, 500])\n",
      "labels.shape torch.Size([9999, 1])\n",
      "self.labels_names ['Wind1']\n"
     ]
    },
    {
     "data": {
      "image/png": "[encoded data removed]",
      "text/plain": [
       "<Figure size 432x288 with 1 Axes>"
      ]
     },
     "metadata": {
      "needs_background": "light"
     },
     "output_type": "display_data"
    },
    {
     "name": "stdout",
     "output_type": "stream",
     "text": [
      "labels.shape torch.Size([9999, 1])\n",
      "data.shape torch.Size([9999, 1376, 500])\n",
      "Mean labels after scaling tensor([0.5945])\n",
      "train_dataset 8000\n",
      "test_dataset 1999\n",
      "Epoch [1/64]], Loss: 0.044739, , Loss Val: 0.073276\n",
      "Epoch [2/64]], Loss: 0.067770, , Loss Val: 0.061906\n",
      "Epoch [3/64]], Loss: 0.069919, , Loss Val: 0.035020\n",
      "Epoch [4/64]], Loss: 0.041568, , Loss Val: 0.061463\n"
     ]
    }
   ],
   "source": [
    "for i, q in enumerate(['Wind1', 'Wind2', 'Wind3', 'Wind0']):\n",
    "    ts = trainingService('config/paramsConfigGRU' + q + '.yml')\n",
    "    ts.loadData()\n",
    "    ts.setupModel()\n",
    "    ts.trainModel(learning_rate=1e-4, weight_decay=0, num_epochs=64)\n",
    "    ts.trainModel(learning_rate=1e-5, weight_decay=0, num_epochs=64)\n",
    "    ts.trainModel(learning_rate=1e-6, weight_decay=0, num_epochs=64)\n",
    "    plotResults(ts)"
   ]
  },
  {
   "cell_type": "code",
   "execution_count": null,
   "metadata": {},
   "outputs": [],
   "source": [
    "for i, q in enumerate(['All']):\n",
    "    ts = trainingService('config/paramsConfigGRU' + q + '.yml')\n",
    "    ts.loadData()\n",
    "    ts.setupModel()\n",
    "    ts.trainModel(learning_rate=1e-4, weight_decay=0, num_epochs=64)\n",
    "    ts.trainModel(learning_rate=1e-5, weight_decay=0, num_epochs=64)\n",
    "    ts.trainModel(learning_rate=1e-6, weight_decay=0, num_epochs=64)\n",
    "    plotResults(ts)"
   ]
  },
  {
   "cell_type": "code",
   "execution_count": null,
   "metadata": {},
   "outputs": [],
   "source": [
    "for i, q in enumerate(['Strehl', 'Seeing', 'L0']):\n",
    "    ts = trainingService('config/paramsConfigGRU' + q + '.yml')\n",
    "    ts.loadData()\n",
    "    ts.setupModel()\n",
    "    ts.trainModel(learning_rate=1e-4, weight_decay=0, num_epochs=64)\n",
    "    ts.trainModel(learning_rate=1e-5, weight_decay=0, num_epochs=64)\n",
    "    ts.trainModel(learning_rate=1e-6, weight_decay=0, num_epochs=64)\n",
    "    plotResults(ts)"
   ]
  },
  {
   "cell_type": "code",
   "execution_count": null,
   "metadata": {},
   "outputs": [],
   "source": []
  },
  {
   "cell_type": "code",
   "execution_count": null,
   "metadata": {},
   "outputs": [],
   "source": []
  },
  {
   "cell_type": "code",
   "execution_count": null,
   "metadata": {},
   "outputs": [],
   "source": [
    "for i, q in enumerate(['All']):\n",
    "    ts = trainingService('config/paramsConfigGRU' + q + '.yml')\n",
    "    ts.loadData()\n",
    "    ts.setupModel()\n",
    "    ts.loadModel()\n",
    "    plotResults(ts)"
   ]
  },
  {
   "cell_type": "code",
   "execution_count": null,
   "metadata": {},
   "outputs": [],
   "source": [
    "for i, q in enumerate(['Wind0', 'Wind3', 'Strehl', 'Seeing', 'L0']):\n",
    "    ts = trainingService('config/paramsConfigGRU' + q + '.yml')\n",
    "    ts.loadData()\n",
    "    ts.setupModel()\n",
    "    ts.loadModel()\n",
    "    plotResults(ts)"
   ]
  },
  {
   "cell_type": "code",
   "execution_count": null,
   "metadata": {},
   "outputs": [],
   "source": [
    "for i, q in enumerate([ 'Strehl', 'Seeing', 'L0']):\n",
    "    ts = trainingService('config/paramsConfigGRU' + q + '.yml')\n",
    "    ts.loadData()\n",
    "    ts.setupModel()\n",
    "#    ts.loadModel()\n",
    "    ts.trainModel(learning_rate=5e-4, weight_decay=0.2e-5, num_epochs=10)\n",
    "    ts.trainModel(learning_rate=5e-5, weight_decay=0.0, num_epochs=20)\n",
    "    ts.trainModel(learning_rate=5e-6, weight_decay=0.0, num_epochs=30)\n",
    "    plotResults(ts)"
   ]
  },
  {
   "cell_type": "code",
   "execution_count": null,
   "metadata": {},
   "outputs": [],
   "source": [
    "for i, q in enumerate(['Wind0', 'Wind1', 'Wind2', 'Wind3', 'Wind']):\n",
    "    ts = trainingService('config/paramsConfigGRU' + q + '.yml')\n",
    "    ts.loadData()\n",
    "    ts.setupModel()\n",
    "#    ts.loadModel()\n",
    "    ts.trainModel(learning_rate=5e-4, weight_decay=1e-6, num_epochs=20)\n",
    "    ts.trainModel(learning_rate=5e-5, weight_decay=0.0, num_epochs=30)\n",
    "    ts.trainModel(learning_rate=5e-6, weight_decay=0.0, num_epochs=30)\n",
    "    plotResults(ts)"
   ]
  },
  {
   "cell_type": "code",
   "execution_count": null,
   "metadata": {},
   "outputs": [],
   "source": [
    "for i, q in enumerate(['Wind0', 'Wind1', 'Wind2', 'Wind3', 'Wind']):\n",
    "    ts = trainingService('config/paramsConfigGRU' + q + '.yml')\n",
    "    ts.loadData()\n",
    "    ts.setupModel()\n",
    "#    ts.loadModel()\n",
    "    ts.trainModel(learning_rate=5e-4, weight_decay=0.2e-5, num_epochs=10)\n",
    "    ts.trainModel(learning_rate=5e-5, weight_decay=0.0, num_epochs=20)\n",
    "    ts.trainModel(learning_rate=5e-6, weight_decay=0.0, num_epochs=30)\n",
    "    plotResults(ts)"
   ]
  }
 ],
 "metadata": {
  "kernelspec": {
   "display_name": "Python 3 (ipykernel)",
   "language": "python",
   "name": "python3"
  },
  "language_info": {
   "codemirror_mode": {
    "name": "ipython",
    "version": 3
   },
   "file_extension": ".py",
   "mimetype": "text/x-python",
   "name": "python",
   "nbconvert_exporter": "python",
   "pygments_lexer": "ipython3",
   "version": "3.11.4"
  }
 },
 "nbformat": 4,
 "nbformat_minor": 4
}
