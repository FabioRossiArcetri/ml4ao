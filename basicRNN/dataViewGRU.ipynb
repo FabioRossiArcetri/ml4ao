{
 "cells": [
  {
   "cell_type": "code",
   "execution_count": 1,
   "metadata": {},
   "outputs": [],
   "source": [
    "import pandas as pd\n",
    "import os\n",
    "import torch\n",
    "import matplotlib.pyplot as plt"
   ]
  },
  {
   "cell_type": "code",
   "execution_count": 2,
   "metadata": {},
   "outputs": [
    {
     "name": "stdout",
     "output_type": "stream",
     "text": [
      "cuda\n"
     ]
    }
   ],
   "source": [
    "from basicRNN import *\n",
    "print(device)"
   ]
  },
  {
   "cell_type": "code",
   "execution_count": 3,
   "metadata": {},
   "outputs": [
    {
     "name": "stdout",
     "output_type": "stream",
     "text": [
      "self.time_points 900\n",
      "data.shape torch.Size([10000, 200, 1716])\n",
      "self.spacing 2\n",
      "data.shape torch.Size([9999, 833, 199])\n",
      "labels.shape torch.Size([9999, 1])\n",
      "self.labels_names ['Wind0']\n"
     ]
    },
    {
     "data": {
      "image/png": "[encoded data removed]",
      "text/plain": [
       "<Figure size 432x288 with 1 Axes>"
      ]
     },
     "metadata": {
      "needs_background": "light"
     },
     "output_type": "display_data"
    },
    {
     "name": "stdout",
     "output_type": "stream",
     "text": [
      "data.shape torch.Size([9977, 833, 199])\n",
      "labels.shape torch.Size([9977, 1])\n",
      "labels scales tensor([15.9988])\n",
      "labels scales tensor([0.6282])\n",
      "train_dataset 7982\n",
      "test_dataset 1995\n",
      "Epoch [1/40]], Loss: 0.055681, , Loss Val: 0.378479\n",
      "Epoch [2/40]], Loss: 0.045552, , Loss Val: 0.329022\n",
      "Epoch [3/40]], Loss: 0.042862, , Loss Val: 0.363627\n",
      "Epoch [4/40]], Loss: 0.051800, , Loss Val: 0.387526\n"
     ]
    },
    {
     "ename": "KeyboardInterrupt",
     "evalue": "",
     "output_type": "error",
     "traceback": [
      "\u001b[0;31m---------------------------------------------------------------------------\u001b[0m",
      "\u001b[0;31mKeyboardInterrupt\u001b[0m                         Traceback (most recent call last)",
      "Cell \u001b[0;32mIn[3], line 5\u001b[0m\n\u001b[1;32m      3\u001b[0m ts\u001b[38;5;241m.\u001b[39mloadData()\n\u001b[1;32m      4\u001b[0m ts\u001b[38;5;241m.\u001b[39msetupModel()\n\u001b[0;32m----> 5\u001b[0m ts\u001b[38;5;241m.\u001b[39mtrainModel(learning_rate\u001b[38;5;241m=\u001b[39m\u001b[38;5;241m5e-6\u001b[39m, weight_decay\u001b[38;5;241m=\u001b[39m\u001b[38;5;241m0.0\u001b[39m, num_epochs\u001b[38;5;241m=\u001b[39m\u001b[38;5;241m40\u001b[39m)\n\u001b[1;32m      6\u001b[0m plotResults(ts)\n",
      "File \u001b[0;32m~/dev/ml4ao/basicRNN/basicRNN.py:378\u001b[0m, in \u001b[0;36mtrainingService.trainModel\u001b[0;34m(self, learning_rate, weight_decay, num_epochs, saveBest)\u001b[0m\n\u001b[1;32m    376\u001b[0m \u001b[38;5;66;03m# Backward pass and optimization\u001b[39;00m\n\u001b[1;32m    377\u001b[0m \u001b[38;5;28mself\u001b[39m\u001b[38;5;241m.\u001b[39moptimizer\u001b[38;5;241m.\u001b[39mzero_grad()\n\u001b[0;32m--> 378\u001b[0m loss\u001b[38;5;241m.\u001b[39mbackward()\n\u001b[1;32m    379\u001b[0m \u001b[38;5;28mself\u001b[39m\u001b[38;5;241m.\u001b[39moptimizer\u001b[38;5;241m.\u001b[39mstep()\n\u001b[1;32m    380\u001b[0m running_loss1 \u001b[38;5;241m+\u001b[39m\u001b[38;5;241m=\u001b[39m loss\u001b[38;5;241m.\u001b[39mcpu()\u001b[38;5;241m.\u001b[39mitem()\n",
      "File \u001b[0;32m/opt/anaconda3/envs/base11/lib/python3.11/site-packages/torch/_tensor.py:492\u001b[0m, in \u001b[0;36mTensor.backward\u001b[0;34m(self, gradient, retain_graph, create_graph, inputs)\u001b[0m\n\u001b[1;32m    482\u001b[0m \u001b[38;5;28;01mif\u001b[39;00m has_torch_function_unary(\u001b[38;5;28mself\u001b[39m):\n\u001b[1;32m    483\u001b[0m     \u001b[38;5;28;01mreturn\u001b[39;00m handle_torch_function(\n\u001b[1;32m    484\u001b[0m         Tensor\u001b[38;5;241m.\u001b[39mbackward,\n\u001b[1;32m    485\u001b[0m         (\u001b[38;5;28mself\u001b[39m,),\n\u001b[0;32m   (...)\u001b[0m\n\u001b[1;32m    490\u001b[0m         inputs\u001b[38;5;241m=\u001b[39minputs,\n\u001b[1;32m    491\u001b[0m     )\n\u001b[0;32m--> 492\u001b[0m torch\u001b[38;5;241m.\u001b[39mautograd\u001b[38;5;241m.\u001b[39mbackward(\n\u001b[1;32m    493\u001b[0m     \u001b[38;5;28mself\u001b[39m, gradient, retain_graph, create_graph, inputs\u001b[38;5;241m=\u001b[39minputs\n\u001b[1;32m    494\u001b[0m )\n",
      "File \u001b[0;32m/opt/anaconda3/envs/base11/lib/python3.11/site-packages/torch/autograd/__init__.py:251\u001b[0m, in \u001b[0;36mbackward\u001b[0;34m(tensors, grad_tensors, retain_graph, create_graph, grad_variables, inputs)\u001b[0m\n\u001b[1;32m    246\u001b[0m     retain_graph \u001b[38;5;241m=\u001b[39m create_graph\n\u001b[1;32m    248\u001b[0m \u001b[38;5;66;03m# The reason we repeat the same comment below is that\u001b[39;00m\n\u001b[1;32m    249\u001b[0m \u001b[38;5;66;03m# some Python versions print out the first line of a multi-line function\u001b[39;00m\n\u001b[1;32m    250\u001b[0m \u001b[38;5;66;03m# calls in the traceback and some print out the last line\u001b[39;00m\n\u001b[0;32m--> 251\u001b[0m Variable\u001b[38;5;241m.\u001b[39m_execution_engine\u001b[38;5;241m.\u001b[39mrun_backward(  \u001b[38;5;66;03m# Calls into the C++ engine to run the backward pass\u001b[39;00m\n\u001b[1;32m    252\u001b[0m     tensors,\n\u001b[1;32m    253\u001b[0m     grad_tensors_,\n\u001b[1;32m    254\u001b[0m     retain_graph,\n\u001b[1;32m    255\u001b[0m     create_graph,\n\u001b[1;32m    256\u001b[0m     inputs,\n\u001b[1;32m    257\u001b[0m     allow_unreachable\u001b[38;5;241m=\u001b[39m\u001b[38;5;28;01mTrue\u001b[39;00m,\n\u001b[1;32m    258\u001b[0m     accumulate_grad\u001b[38;5;241m=\u001b[39m\u001b[38;5;28;01mTrue\u001b[39;00m,\n\u001b[1;32m    259\u001b[0m )\n",
      "\u001b[0;31mKeyboardInterrupt\u001b[0m: "
     ]
    }
   ],
   "source": [
    "for i, q in enumerate(['Wind0']):\n",
    "    ts = trainingService('config/paramsConfigGRU' + q + '.yml')\n",
    "    ts.loadData()\n",
    "    ts.setupModel()\n",
    "    ts.trainModel(learning_rate=5e-6, weight_decay=0.0, num_epochs=40)\n",
    "    plotResults(ts)"
   ]
  },
  {
   "cell_type": "code",
   "execution_count": 3,
   "metadata": {},
   "outputs": [
    {
     "name": "stdout",
     "output_type": "stream",
     "text": [
      "self.time_points 425\n",
      "data.shape torch.Size([10000, 200, 1716])\n",
      "self.spacing 5\n",
      "data.shape torch.Size([9999, 429, 199])\n",
      "labels.shape torch.Size([9999, 1])\n",
      "self.labels_names ['Wind0']\n"
     ]
    },
    {
     "data": {
      "image/png": "[encoded data removed]",
      "text/plain": [
       "<Figure size 432x288 with 1 Axes>"
      ]
     },
     "metadata": {
      "needs_background": "light"
     },
     "output_type": "display_data"
    },
    {
     "name": "stdout",
     "output_type": "stream",
     "text": [
      "data.shape torch.Size([9977, 429, 199])\n",
      "labels.shape torch.Size([9977, 1])\n",
      "labels scales tensor([15.9988])\n",
      "labels scales tensor([0.6282])\n",
      "train_dataset 7982\n",
      "test_dataset 1995\n"
     ]
    },
    {
     "ename": "RuntimeError",
     "evalue": "Error(s) in loading state_dict for MultivariateGRU:\n\tMissing key(s) in state_dict: \"gru.weight_ih_l4\", \"gru.weight_hh_l4\", \"gru.bias_ih_l4\", \"gru.bias_hh_l4\". ",
     "output_type": "error",
     "traceback": [
      "\u001b[0;31m---------------------------------------------------------------------------\u001b[0m",
      "\u001b[0;31mRuntimeError\u001b[0m                              Traceback (most recent call last)",
      "Cell \u001b[0;32mIn[3], line 5\u001b[0m\n\u001b[1;32m      3\u001b[0m ts\u001b[38;5;241m.\u001b[39mloadData()\n\u001b[1;32m      4\u001b[0m ts\u001b[38;5;241m.\u001b[39msetupModel()\n\u001b[0;32m----> 5\u001b[0m ts\u001b[38;5;241m.\u001b[39mloadModel()\n\u001b[1;32m      6\u001b[0m plotResults(ts)\n",
      "File \u001b[0;32m~/dev/ml4ao/basicRNN/basicRNN.py:320\u001b[0m, in \u001b[0;36mtrainingService.loadModel\u001b[0;34m(self)\u001b[0m\n\u001b[1;32m    318\u001b[0m \u001b[38;5;28;01mdef\u001b[39;00m \u001b[38;5;21mloadModel\u001b[39m(\u001b[38;5;28mself\u001b[39m):\n\u001b[1;32m    319\u001b[0m     \u001b[38;5;28mself\u001b[39m\u001b[38;5;241m.\u001b[39msetupModel()\n\u001b[0;32m--> 320\u001b[0m     \u001b[38;5;28mself\u001b[39m\u001b[38;5;241m.\u001b[39mmodel\u001b[38;5;241m.\u001b[39mload_state_dict(torch\u001b[38;5;241m.\u001b[39mload(\u001b[38;5;28mself\u001b[39m\u001b[38;5;241m.\u001b[39moutput_file))\n\u001b[1;32m    321\u001b[0m     \u001b[38;5;28mself\u001b[39m\u001b[38;5;241m.\u001b[39mmodel\u001b[38;5;241m.\u001b[39meval()\n",
      "File \u001b[0;32m/opt/anaconda3/envs/base11/lib/python3.11/site-packages/torch/nn/modules/module.py:2152\u001b[0m, in \u001b[0;36mModule.load_state_dict\u001b[0;34m(self, state_dict, strict, assign)\u001b[0m\n\u001b[1;32m   2147\u001b[0m         error_msgs\u001b[38;5;241m.\u001b[39minsert(\n\u001b[1;32m   2148\u001b[0m             \u001b[38;5;241m0\u001b[39m, \u001b[38;5;124m'\u001b[39m\u001b[38;5;124mMissing key(s) in state_dict: \u001b[39m\u001b[38;5;132;01m{}\u001b[39;00m\u001b[38;5;124m. \u001b[39m\u001b[38;5;124m'\u001b[39m\u001b[38;5;241m.\u001b[39mformat(\n\u001b[1;32m   2149\u001b[0m                 \u001b[38;5;124m'\u001b[39m\u001b[38;5;124m, \u001b[39m\u001b[38;5;124m'\u001b[39m\u001b[38;5;241m.\u001b[39mjoin(\u001b[38;5;124mf\u001b[39m\u001b[38;5;124m'\u001b[39m\u001b[38;5;124m\"\u001b[39m\u001b[38;5;132;01m{\u001b[39;00mk\u001b[38;5;132;01m}\u001b[39;00m\u001b[38;5;124m\"\u001b[39m\u001b[38;5;124m'\u001b[39m \u001b[38;5;28;01mfor\u001b[39;00m k \u001b[38;5;129;01min\u001b[39;00m missing_keys)))\n\u001b[1;32m   2151\u001b[0m \u001b[38;5;28;01mif\u001b[39;00m \u001b[38;5;28mlen\u001b[39m(error_msgs) \u001b[38;5;241m>\u001b[39m \u001b[38;5;241m0\u001b[39m:\n\u001b[0;32m-> 2152\u001b[0m     \u001b[38;5;28;01mraise\u001b[39;00m \u001b[38;5;167;01mRuntimeError\u001b[39;00m(\u001b[38;5;124m'\u001b[39m\u001b[38;5;124mError(s) in loading state_dict for \u001b[39m\u001b[38;5;132;01m{}\u001b[39;00m\u001b[38;5;124m:\u001b[39m\u001b[38;5;130;01m\\n\u001b[39;00m\u001b[38;5;130;01m\\t\u001b[39;00m\u001b[38;5;132;01m{}\u001b[39;00m\u001b[38;5;124m'\u001b[39m\u001b[38;5;241m.\u001b[39mformat(\n\u001b[1;32m   2153\u001b[0m                        \u001b[38;5;28mself\u001b[39m\u001b[38;5;241m.\u001b[39m\u001b[38;5;18m__class__\u001b[39m\u001b[38;5;241m.\u001b[39m\u001b[38;5;18m__name__\u001b[39m, \u001b[38;5;124m\"\u001b[39m\u001b[38;5;130;01m\\n\u001b[39;00m\u001b[38;5;130;01m\\t\u001b[39;00m\u001b[38;5;124m\"\u001b[39m\u001b[38;5;241m.\u001b[39mjoin(error_msgs)))\n\u001b[1;32m   2154\u001b[0m \u001b[38;5;28;01mreturn\u001b[39;00m _IncompatibleKeys(missing_keys, unexpected_keys)\n",
      "\u001b[0;31mRuntimeError\u001b[0m: Error(s) in loading state_dict for MultivariateGRU:\n\tMissing key(s) in state_dict: \"gru.weight_ih_l4\", \"gru.weight_hh_l4\", \"gru.bias_ih_l4\", \"gru.bias_hh_l4\". "
     ]
    }
   ],
   "source": [
    "for i, q in enumerate(['Wind0']):\n",
    "    ts = trainingService('config/paramsConfigGRU' + q + '.yml')\n",
    "    ts.loadData()\n",
    "    ts.setupModel()\n",
    "    ts.loadModel()\n",
    "    plotResults(ts)"
   ]
  },
  {
   "cell_type": "code",
   "execution_count": null,
   "metadata": {},
   "outputs": [],
   "source": [
    "for i, q in enumerate(['Strehl', 'Seeing', 'L0']):\n",
    "    ts = trainingService('config/paramsConfigGRU' + q + '.yml')\n",
    "    ts.loadData()\n",
    "    ts.setupModel()\n",
    "    ts.loadModel()\n",
    "    plotResults(ts)"
   ]
  },
  {
   "cell_type": "code",
   "execution_count": null,
   "metadata": {},
   "outputs": [],
   "source": [
    "for i, q in enumerate([ 'Strehl', 'Seeing', 'L0']):\n",
    "    ts = trainingService('config/paramsConfigGRU' + q + '.yml')\n",
    "    ts.loadData()\n",
    "    ts.setupModel()\n",
    "#    ts.loadModel()\n",
    "    ts.trainModel(learning_rate=5e-4, weight_decay=0.2e-5, num_epochs=10)\n",
    "    ts.trainModel(learning_rate=5e-5, weight_decay=0.0, num_epochs=20)\n",
    "    ts.trainModel(learning_rate=5e-6, weight_decay=0.0, num_epochs=30)\n",
    "    plotResults(ts)"
   ]
  },
  {
   "cell_type": "code",
   "execution_count": null,
   "metadata": {},
   "outputs": [],
   "source": [
    "for i, q in enumerate(['Wind0', 'Wind1', 'Wind2', 'Wind3', 'Wind']):\n",
    "    ts = trainingService('config/paramsConfigGRU' + q + '.yml')\n",
    "    ts.loadData()\n",
    "    ts.setupModel()\n",
    "#    ts.loadModel()\n",
    "    ts.trainModel(learning_rate=5e-4, weight_decay=1e-6, num_epochs=20)\n",
    "    ts.trainModel(learning_rate=5e-5, weight_decay=0.0, num_epochs=30)\n",
    "    ts.trainModel(learning_rate=5e-6, weight_decay=0.0, num_epochs=30)\n",
    "    plotResults(ts)"
   ]
  },
  {
   "cell_type": "code",
   "execution_count": null,
   "metadata": {},
   "outputs": [],
   "source": [
    "for i, q in enumerate(['Wind0', 'Wind1', 'Wind2', 'Wind3', 'Wind']):\n",
    "    ts = trainingService('config/paramsConfigGRU' + q + '.yml')\n",
    "    ts.loadData()\n",
    "    ts.setupModel()\n",
    "#    ts.loadModel()\n",
    "    ts.trainModel(learning_rate=5e-4, weight_decay=0.2e-5, num_epochs=10)\n",
    "    ts.trainModel(learning_rate=5e-5, weight_decay=0.0, num_epochs=20)\n",
    "    ts.trainModel(learning_rate=5e-6, weight_decay=0.0, num_epochs=30)\n",
    "    plotResults(ts)"
   ]
  }
 ],
 "metadata": {
  "kernelspec": {
   "display_name": "Python 3 (ipykernel)",
   "language": "python",
   "name": "python3"
  },
  "language_info": {
   "codemirror_mode": {
    "name": "ipython",
    "version": 3
   },
   "file_extension": ".py",
   "mimetype": "text/x-python",
   "name": "python",
   "nbconvert_exporter": "python",
   "pygments_lexer": "ipython3",
   "version": "3.11.4"
  }
 },
 "nbformat": 4,
 "nbformat_minor": 4
}
