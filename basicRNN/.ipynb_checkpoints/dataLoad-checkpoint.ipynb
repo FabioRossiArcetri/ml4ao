{
 "cells": [
  {
   "cell_type": "code",
   "execution_count": 1,
   "id": "b6cb1030-11c9-4144-be8b-2c81f4a32d04",
   "metadata": {},
   "outputs": [],
   "source": [
    "import pandas as pd\n",
    "import os\n",
    "import torch\n",
    "import numpy as np"
   ]
  },
  {
   "cell_type": "code",
   "execution_count": 2,
   "id": "af92723d-42b3-48ae-8e18-2ab2672209c7",
   "metadata": {},
   "outputs": [],
   "source": [
    "data_path = '/raid1/ml4ao/pickle/'"
   ]
  },
  {
   "cell_type": "code",
   "execution_count": 3,
   "id": "98cbe066-74d7-4cc7-9c11-51b12570328f",
   "metadata": {},
   "outputs": [],
   "source": [
    "filename = '20230726_204805.0.pkl'\n",
    "file_path = os.path.join(data_path, filename)\n",
    "oneTN = pd.read_pickle(file_path)"
   ]
  },
  {
   "cell_type": "code",
   "execution_count": 4,
   "id": "582778e6-4100-4355-925b-12d677b99dd9",
   "metadata": {},
   "outputs": [
    {
     "name": "stdout",
     "output_type": "stream",
     "text": [
      "dict_keys(['date', 'ccdframes', 'deltaComm', 'resVar', 'srRes', 'comm', 'meanFlux', 'resMod', 'slopes', 'PYRAMID', 'SEEING', 'MODALREC', 'PUPIL_STOP', 'DETECTOR', 'MAIN', 'WIND_DIRECTION', 'MODALANALYSIS', 'DM', 'WFS_SOURCE', 'WIND_SPEED', 'SLOPEC', 'CAMERA', 'CONTROL', 'ATMO'])\n"
     ]
    }
   ],
   "source": [
    "print(oneTN.keys())"
   ]
  },
  {
   "cell_type": "code",
   "execution_count": 5,
   "id": "08aad620-d831-45d1-9805-bcb2d09e82f6",
   "metadata": {},
   "outputs": [
    {
     "data": {
      "text/plain": [
       "(500, 1801)"
      ]
     },
     "execution_count": 5,
     "metadata": {},
     "output_type": "execute_result"
    }
   ],
   "source": [
    "oneTN['deltaComm'][0].shape"
   ]
  },
  {
   "cell_type": "code",
   "execution_count": 6,
   "id": "95d30f5e-3b2e-48bc-b9ff-fcd14559a2ab",
   "metadata": {},
   "outputs": [
    {
     "data": {
      "text/plain": [
       "0.58349442"
      ]
     },
     "execution_count": 6,
     "metadata": {},
     "output_type": "execute_result"
    }
   ],
   "source": [
    "oneTN['SEEING'][0]['CONSTANT']"
   ]
  },
  {
   "cell_type": "code",
   "execution_count": 7,
   "id": "0494ce09-9d02-4f2b-8d2d-6c8555495282",
   "metadata": {},
   "outputs": [
    {
     "name": "stdout",
     "output_type": "stream",
     "text": [
      "9199\n"
     ]
    }
   ],
   "source": [
    "allTNs = os.listdir(data_path)\n",
    "print(len(allTNs))"
   ]
  },
  {
   "cell_type": "code",
   "execution_count": 8,
   "id": "a2f0243b-6e21-4d53-ba00-60dade612588",
   "metadata": {},
   "outputs": [],
   "source": [
    "X_tensor = torch.zeros(9199, 1801, 500)  # Random tensor for demonstration\n",
    "Y_tensor = torch.zeros(9199, 1)  # Random tensor for demonstration"
   ]
  },
  {
   "cell_type": "code",
   "execution_count": 9,
   "id": "36031da0-2b37-4116-a515-66cea7e71c95",
   "metadata": {},
   "outputs": [
    {
     "name": "stdout",
     "output_type": "stream",
     "text": [
      "0\n"
     ]
    }
   ],
   "source": [
    "for ii, tn in enumerate(allTNs):\n",
    "    file_path = os.path.join(data_path, tn)\n",
    "    oneTN = pd.read_pickle(file_path)\n",
    "#    print(oneTN['deltaComm'][0].shape, type(oneTN['deltaComm'][0]), oneTN['SEEING'][0]['CONSTANT'])\n",
    "    Y_tensor[ii] = oneTN['SEEING'][0]['CONSTANT']\n",
    "    X_tensor[ii] =  torch.from_numpy(np.transpose(oneTN['deltaComm'][0]))\n",
    "    if ii%100==0:\n",
    "        print(ii)"
   ]
  },
  {
   "cell_type": "code",
   "execution_count": 10,
   "id": "c023d03c-4c56-4168-84a1-721b2f35dd81",
   "metadata": {},
   "outputs": [],
   "source": [
    "data_path = '/raid1/ml4ao/'"
   ]
  },
  {
   "cell_type": "code",
   "execution_count": 11,
   "id": "590ee23e-0352-4404-a621-73dd46e88e9d",
   "metadata": {},
   "outputs": [
    {
     "name": "stdout",
     "output_type": "stream",
     "text": [
      "tensor([[[-7.2490e+01, -1.2202e+01, -3.3425e+01,  ..., -3.2142e+00,\n",
      "          -3.8282e+00,  4.0377e+00],\n",
      "         [-7.2190e+01, -6.1564e+00, -3.6365e+01,  ..., -2.4988e+00,\n",
      "          -7.6790e+00,  1.5259e+00],\n",
      "         [-8.9406e+01, -1.7242e+01, -2.5903e+01,  ..., -2.3597e+00,\n",
      "          -3.0773e+00,  1.6959e+00],\n",
      "         ...,\n",
      "         [ 4.7178e+00,  2.2389e-01,  4.0668e+00,  ...,  2.6200e+00,\n",
      "          -9.9170e-01, -3.6608e-01],\n",
      "         [-2.2962e+01,  2.3969e+00,  1.2765e+01,  ..., -1.7611e+00,\n",
      "          -1.3923e+00,  1.0846e+00],\n",
      "         [-1.3367e+01,  7.8952e+00,  8.4555e-01,  ..., -1.6603e+00,\n",
      "           7.7027e-01, -1.2497e-01]],\n",
      "\n",
      "        [[-7.6039e+01,  2.1135e+02,  2.7611e+01,  ..., -1.1447e-02,\n",
      "           4.4995e+00,  1.7532e+00],\n",
      "         [-4.8260e+01,  2.1851e+02,  2.6302e+01,  ..., -2.7759e+00,\n",
      "           2.1329e+00, -4.5227e-01],\n",
      "         [-4.8768e+01,  2.0685e+02,  2.6632e+01,  ..., -3.3801e+00,\n",
      "           3.6859e+00,  1.2423e+00],\n",
      "         ...,\n",
      "         [-5.7401e+00, -1.1134e+01,  1.9128e-01,  ..., -1.4341e+00,\n",
      "           1.9576e+00,  8.3472e-01],\n",
      "         [-1.2257e+01, -2.9849e+01, -2.9787e-01,  ..., -2.7063e-01,\n",
      "           1.3494e+00,  2.2992e-01],\n",
      "         [ 2.4958e+00, -2.3598e+01, -5.7611e-01,  ...,  3.5589e-01,\n",
      "           6.4315e-01,  1.9716e-01]],\n",
      "\n",
      "        [[ 5.7058e+01, -1.0788e+02, -9.3153e+01,  ..., -5.2348e-01,\n",
      "          -2.1931e-01, -8.1691e-01],\n",
      "         [ 3.5879e+01, -1.2212e+02, -8.8000e+01,  ..., -9.5131e-02,\n",
      "           1.8877e+00,  6.3076e-01],\n",
      "         [ 1.5327e+01, -1.2121e+02, -8.6761e+01,  ..., -1.2976e+00,\n",
      "          -4.0177e+00,  2.0394e+00],\n",
      "         ...,\n",
      "         [ 2.0771e+01, -7.4972e+00, -3.0259e+00,  ...,  1.9583e+00,\n",
      "          -3.5548e-01, -1.5822e+00],\n",
      "         [ 1.3897e+01, -1.5102e+01, -2.1901e+00,  ...,  1.7666e-01,\n",
      "          -2.1778e+00, -2.0810e+00],\n",
      "         [ 1.5245e+01, -1.0222e+01,  1.4839e+01,  ..., -2.3960e+00,\n",
      "           2.3877e+00, -1.0969e+00]],\n",
      "\n",
      "        ...,\n",
      "\n",
      "        [[ 0.0000e+00,  0.0000e+00,  0.0000e+00,  ...,  0.0000e+00,\n",
      "           0.0000e+00,  0.0000e+00],\n",
      "         [ 0.0000e+00,  0.0000e+00,  0.0000e+00,  ...,  0.0000e+00,\n",
      "           0.0000e+00,  0.0000e+00],\n",
      "         [ 0.0000e+00,  0.0000e+00,  0.0000e+00,  ...,  0.0000e+00,\n",
      "           0.0000e+00,  0.0000e+00],\n",
      "         ...,\n",
      "         [ 0.0000e+00,  0.0000e+00,  0.0000e+00,  ...,  0.0000e+00,\n",
      "           0.0000e+00,  0.0000e+00],\n",
      "         [ 0.0000e+00,  0.0000e+00,  0.0000e+00,  ...,  0.0000e+00,\n",
      "           0.0000e+00,  0.0000e+00],\n",
      "         [ 0.0000e+00,  0.0000e+00,  0.0000e+00,  ...,  0.0000e+00,\n",
      "           0.0000e+00,  0.0000e+00]],\n",
      "\n",
      "        [[ 0.0000e+00,  0.0000e+00,  0.0000e+00,  ...,  0.0000e+00,\n",
      "           0.0000e+00,  0.0000e+00],\n",
      "         [ 0.0000e+00,  0.0000e+00,  0.0000e+00,  ...,  0.0000e+00,\n",
      "           0.0000e+00,  0.0000e+00],\n",
      "         [ 0.0000e+00,  0.0000e+00,  0.0000e+00,  ...,  0.0000e+00,\n",
      "           0.0000e+00,  0.0000e+00],\n",
      "         ...,\n",
      "         [ 0.0000e+00,  0.0000e+00,  0.0000e+00,  ...,  0.0000e+00,\n",
      "           0.0000e+00,  0.0000e+00],\n",
      "         [ 0.0000e+00,  0.0000e+00,  0.0000e+00,  ...,  0.0000e+00,\n",
      "           0.0000e+00,  0.0000e+00],\n",
      "         [ 0.0000e+00,  0.0000e+00,  0.0000e+00,  ...,  0.0000e+00,\n",
      "           0.0000e+00,  0.0000e+00]],\n",
      "\n",
      "        [[ 0.0000e+00,  0.0000e+00,  0.0000e+00,  ...,  0.0000e+00,\n",
      "           0.0000e+00,  0.0000e+00],\n",
      "         [ 0.0000e+00,  0.0000e+00,  0.0000e+00,  ...,  0.0000e+00,\n",
      "           0.0000e+00,  0.0000e+00],\n",
      "         [ 0.0000e+00,  0.0000e+00,  0.0000e+00,  ...,  0.0000e+00,\n",
      "           0.0000e+00,  0.0000e+00],\n",
      "         ...,\n",
      "         [ 0.0000e+00,  0.0000e+00,  0.0000e+00,  ...,  0.0000e+00,\n",
      "           0.0000e+00,  0.0000e+00],\n",
      "         [ 0.0000e+00,  0.0000e+00,  0.0000e+00,  ...,  0.0000e+00,\n",
      "           0.0000e+00,  0.0000e+00],\n",
      "         [ 0.0000e+00,  0.0000e+00,  0.0000e+00,  ...,  0.0000e+00,\n",
      "           0.0000e+00,  0.0000e+00]]])\n",
      "tensor([[0.7880],\n",
      "        [0.9508],\n",
      "        [0.9081],\n",
      "        ...,\n",
      "        [0.0000],\n",
      "        [0.0000],\n",
      "        [0.0000]])\n"
     ]
    }
   ],
   "source": [
    "print(X_tensor)\n",
    "print(Y_tensor)"
   ]
  },
  {
   "cell_type": "code",
   "execution_count": null,
   "id": "d6ff3d13-386c-4b2e-a90e-aeee11a2b12a",
   "metadata": {},
   "outputs": [],
   "source": [
    "torch.save(X_tensor, os.path.join(data_path, 'tensor_data.pt'))\n",
    "torch.save(Y_tensor, os.path.join(data_path, 'tensor_labels.pt'))"
   ]
  }
 ],
 "metadata": {
  "kernelspec": {
   "display_name": "Python 3 (ipykernel)",
   "language": "python",
   "name": "python3"
  },
  "language_info": {
   "codemirror_mode": {
    "name": "ipython",
    "version": 3
   },
   "file_extension": ".py",
   "mimetype": "text/x-python",
   "name": "python",
   "nbconvert_exporter": "python",
   "pygments_lexer": "ipython3",
   "version": "3.11.4"
  }
 },
 "nbformat": 4,
 "nbformat_minor": 5
}
