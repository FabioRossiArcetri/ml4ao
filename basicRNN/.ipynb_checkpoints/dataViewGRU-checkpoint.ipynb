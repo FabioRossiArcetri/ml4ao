{
 "cells": [
  {
   "cell_type": "code",
   "execution_count": 1,
   "metadata": {},
   "outputs": [],
   "source": [
    "import pandas as pd\n",
    "import os\n",
    "import torch\n",
    "import matplotlib.pyplot as plt"
   ]
  },
  {
   "cell_type": "code",
   "execution_count": 2,
   "metadata": {},
   "outputs": [
    {
     "name": "stdout",
     "output_type": "stream",
     "text": [
      "cuda\n"
     ]
    }
   ],
   "source": [
    "from basicRNN import *\n",
    "print(device)"
   ]
  },
  {
   "cell_type": "code",
   "execution_count": 3,
   "metadata": {},
   "outputs": [
    {
     "name": "stdout",
     "output_type": "stream",
     "text": [
      "self.spacing 1\n",
      "data.shape torch.Size([2993, 478, 50])\n",
      "labels.shape torch.Size([2993, 1])\n",
      "labels scales tensor([50.])\n"
     ]
    },
    {
     "data": {
      "image/png": "[encoded data removed]",
      "text/plain": [
       "<Figure size 432x288 with 1 Axes>"
      ]
     },
     "metadata": {
      "needs_background": "light"
     },
     "output_type": "display_data"
    },
    {
     "name": "stdout",
     "output_type": "stream",
     "text": [
      "labels scales tensor([0.4289])\n",
      "train_dataset 2395\n",
      "test_dataset 598\n"
     ]
    }
   ],
   "source": [
    "ts = trainingService('paramsConfigGRU.yml')\n",
    "ts.loadData()"
   ]
  },
  {
   "cell_type": "code",
   "execution_count": 4,
   "metadata": {},
   "outputs": [],
   "source": [
    "ts.setupModel()"
   ]
  },
  {
   "cell_type": "code",
   "execution_count": 5,
   "metadata": {},
   "outputs": [],
   "source": [
    "# ts.loadModel()"
   ]
  },
  {
   "cell_type": "code",
   "execution_count": null,
   "metadata": {},
   "outputs": [
    {
     "name": "stdout",
     "output_type": "stream",
     "text": [
      "Epoch [10/50]], Loss: 0.015380, , Loss Val: 0.015654\n",
      "Epoch [20/50]], Loss: 0.016857, , Loss Val: 0.016760\n",
      "Epoch [30/50]], Loss: 0.016913, , Loss Val: 0.012657\n",
      "Epoch [40/50]], Loss: 0.015540, , Loss Val: 0.016203\n",
      "Epoch [50/50]], Loss: 0.013861, , Loss Val: 0.013917\n"
     ]
    }
   ],
   "source": [
    "ts.trainModel(learning_rate=1e-3, weight_decay=0.5e-3, num_epochs=50)\n",
    "ts.trainModel(learning_rate=1e-4, weight_decay=0.5e-4, num_epochs=100)\n",
    "ts.trainModel(learning_rate=1e-5, weight_decay=0.5e-5, num_epochs=200)\n",
    "ts.trainModel(learning_rate=0.5e-5, weight_decay=0.5e-5, num_epochs=200)"
   ]
  },
  {
   "cell_type": "code",
   "execution_count": null,
   "metadata": {},
   "outputs": [],
   "source": [
    "ts.saveModel()"
   ]
  },
  {
   "cell_type": "code",
   "execution_count": null,
   "metadata": {},
   "outputs": [],
   "source": [
    "ts.model.eval()\n",
    "test_errors = []\n",
    "test_labels = []\n",
    "test_predictions = []\n",
    "\n",
    "running_loss1 = 0.0\n",
    "with torch.no_grad():  # No need to track gradients during evaluation\n",
    "    for i, (inputsT, labelsT) in enumerate(ts.test_loader):\n",
    "        inputsT = inputsT.to(device)\n",
    "        labelsT = labelsT.to(device)\n",
    "        outputsT = ts.model(inputsT)\n",
    "        errorsT = outputsT - labelsT        \n",
    "        test_errors.extend(errorsT.cpu().numpy())\n",
    "        test_labels.extend(labelsT.view(-1).tolist())\n",
    "        test_predictions.extend(outputsT.view(-1).tolist())\n",
    "        lossV = ts.criterion(outputsT, labelsT)\n",
    "        running_loss1 += lossV.cpu().item()\n",
    "\n",
    "train_errors = []\n",
    "train_labels = []\n",
    "train_predictions = []\n",
    "with torch.no_grad():  # No need to track gradients during evaluation\n",
    "    for i, (inputs, labels) in enumerate(ts.train_loader):\n",
    "        inputs = inputs.to(device) \n",
    "        labels = labels.to(device)\n",
    "        outputs = ts.model(inputs)\n",
    "        # Compute the error for each sample\n",
    "        errors = outputs - labels\n",
    "        train_errors.extend(errors.view(-1).tolist())\n",
    "        train_labels.extend(labels.view(-1).tolist())\n",
    "        train_predictions.extend(outputs.view(-1).tolist())\n",
    "        if i==0:\n",
    "            pp = inputs[1].cpu().numpy()\n",
    "            plt.plot(pp)\n",
    "            plt.show()\n",
    "\n",
    "#plt.plot(test_errors1)\n",
    "#plt.plot(train_errors)\n",
    "#plt.show()\n",
    "test_labels = np.array(test_labels)\n",
    "train_labels = np.array(train_labels)\n",
    "test_predictions = np.array(test_predictions)\n",
    "train_predictions = np.array(train_predictions)\n",
    "\n",
    "plt.scatter(test_labels, test_predictions)\n",
    "plt.scatter(train_labels, train_predictions)\n",
    "\n",
    "plt.scatter(test_labels, test_labels)\n",
    "\n",
    "test_abs_errors = np.abs(test_errors)\n",
    "train_abs_errors = np.abs(train_errors)\n",
    "print(\"Mean/Median Absolute error TEST:\", np.mean(test_abs_errors), np.median(test_abs_errors))\n",
    "print(\"Mean/Median Absolute error TRAIN:\", np.mean(train_abs_errors), np.median(train_abs_errors))\n",
    "\n",
    "print(\"R^2\", 1-np.mean(np.square(test_abs_errors))/np.var(test_labels))\n",
    "\n",
    "test_labels[test_labels == 0.0] = 1\n",
    "train_labels[train_labels == 0.0] = 1\n",
    "print(\"Mean Relative error TEST:\", np.mean(np.abs(test_errors)/np.abs(test_labels)))\n",
    "print(\"Mean Relative error TRAIN:\", np.mean(np.abs(train_errors)/np.abs(train_labels)))\n",
    "#plt.ylim(0, 1)\n",
    "#plt.xlim(0, 1)\n",
    "plt.show()"
   ]
  },
  {
   "cell_type": "code",
   "execution_count": null,
   "metadata": {},
   "outputs": [],
   "source": [
    "# Example usage\n",
    "#ts.criterion = nn.MSELoss(reduction='none')  # Set reduction='none' to get individual errors\n",
    "test_errors, test_labels, test_predictions = ts.testModel()\n",
    "plt.plot(test_errors)\n",
    "plt.show()\n",
    "print(np.mean(np.abs(test_errors)))\n",
    "plt.scatter(test_labels, test_predictions)"
   ]
  },
  {
   "cell_type": "code",
   "execution_count": null,
   "metadata": {},
   "outputs": [],
   "source": [
    "print( torch.std_mean(ts.data_loader.labels) )\n",
    "olStd, olMean  = torch.std_mean(ts.data_loader.data, dim=1 )\n",
    "#print( ts.data_loader.labels )\n",
    "#print( olMean )\n",
    "#print( olStd )\n",
    "print( olMean.shape, olStd.shape )"
   ]
  },
  {
   "cell_type": "code",
   "execution_count": null,
   "metadata": {},
   "outputs": [],
   "source": [
    "import matplotlib.pyplot as plt\n",
    "\n",
    "bins = 20\n",
    "t = torch.tensor([0., 0., 1., 1., 0., 1., 1., 0., 0., 0.])\n",
    "hist = torch.histc(ts.data_loader.labels, bins=bins, min=0, max=2)\n",
    "x = range(bins)\n",
    "plt.bar(x, hist, align='center')\n",
    "plt.xlabel('Bins')"
   ]
  },
  {
   "cell_type": "code",
   "execution_count": null,
   "metadata": {},
   "outputs": [],
   "source": [
    "print( ts.data_loader.labels.shape )\n",
    "print( olMean[:,0].shape)\n",
    "#print( olStd )\n",
    "#plt.scatter(torch.sqrt(torch.sum(torch.square(olMean), axis=1)), ts.data_loader.labels )\n",
    "plt.scatter(torch.sum(torch.square(olStd), axis=1), ts.data_loader.labels, s=4 )\n",
    "plt.ylim(0, 2.)\n",
    "plt.xlim(0, 2000*1000)\n",
    "plt.show()"
   ]
  },
  {
   "cell_type": "code",
   "execution_count": null,
   "metadata": {},
   "outputs": [],
   "source": [
    "#print( olStd )\n",
    "olStd[390,:] = 0\n",
    "\n",
    "plt.plot(olStd[:,0])\n",
    "plt.plot(olStd[:,1])\n",
    "plt.plot(olStd[:,2])\n",
    "plt.plot(olStd[:,3])\n",
    "plt.ylim(0, 2000)\n",
    "\n",
    "plt.show()"
   ]
  },
  {
   "cell_type": "code",
   "execution_count": null,
   "metadata": {},
   "outputs": [],
   "source": [
    "import torch.nn.functional as F\n",
    "\n",
    "alldata = ts.data_loader.data.numpy()\n",
    "print(alldata.shape)\n",
    "red1 = np.sqrt(np.sum(np.square(ts.data_loader.data.numpy()), axis=1))\n",
    "print(red1.shape)\n",
    "pp_sum = np.mean(red1, axis=0)\n",
    "print(pp_sum.shape)\n",
    "plt.plot(np.log(pp_sum))\n",
    "plt.show()\n",
    "\n",
    "for ii in range(0,10,1):\n",
    "    pp = ts.data_loader.data[77, :, ii].numpy()\n",
    "    plt.plot(pp)\n",
    "\n",
    "plt.show()\n",
    "\n",
    "#for ii in range(10):\n",
    "#    plt.plot(torch.sqrt(torch.sum(torch.square(ts.data_loader.data[ii, :, :]), axis=1)))\n",
    "#    plt.axhline(y=ts.data_loader.labels[ii].data*1e3, color='r', linestyle='-')\n",
    "#    plt.show()\n",
    "\n",
    "#plt.plot(ts.data_loader.data[77, :, 4])\n",
    "#plt.plot(ts.data_loader.data[77, :, 5])\n"
   ]
  },
  {
   "cell_type": "code",
   "execution_count": null,
   "metadata": {},
   "outputs": [],
   "source": []
  }
 ],
 "metadata": {
  "kernelspec": {
   "display_name": "Python 3 (ipykernel)",
   "language": "python",
   "name": "python3"
  },
  "language_info": {
   "codemirror_mode": {
    "name": "ipython",
    "version": 3
   },
   "file_extension": ".py",
   "mimetype": "text/x-python",
   "name": "python",
   "nbconvert_exporter": "python",
   "pygments_lexer": "ipython3",
   "version": "3.11.4"
  }
 },
 "nbformat": 4,
 "nbformat_minor": 4
}
