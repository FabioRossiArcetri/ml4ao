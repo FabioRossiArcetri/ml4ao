{
 "cells": [
  {
   "cell_type": "code",
   "execution_count": 1,
   "metadata": {},
   "outputs": [],
   "source": [
    "import pandas as pd\n",
    "import os\n",
    "import torch"
   ]
  },
  {
   "cell_type": "code",
   "execution_count": 2,
   "metadata": {},
   "outputs": [
    {
     "name": "stdout",
     "output_type": "stream",
     "text": [
      "cuda\n"
     ]
    }
   ],
   "source": [
    "from basicRNN import *\n",
    "print(device)"
   ]
  },
  {
   "cell_type": "code",
   "execution_count": 3,
   "metadata": {},
   "outputs": [
    {
     "name": "stdout",
     "output_type": "stream",
     "text": [
      "self.spacing 1\n",
      "data.shape torch.Size([4992, 100])\n",
      "labels.shape torch.Size([4992, 1])\n",
      "labels scales tensor([0.9581])\n"
     ]
    },
    {
     "data": {
      "image/png": "[encoded data removed]",
      "text/plain": [
       "<Figure size 432x288 with 1 Axes>"
      ]
     },
     "metadata": {
      "needs_background": "light"
     },
     "output_type": "display_data"
    },
    {
     "name": "stdout",
     "output_type": "stream",
     "text": [
      "labels scales tensor([0.8363])\n",
      "train_dataset 3994\n",
      "test_dataset 998\n"
     ]
    }
   ],
   "source": [
    "ts = trainingService('paramsConfigMLP4.yml')\n",
    "ts.loadData()"
   ]
  },
  {
   "cell_type": "code",
   "execution_count": 4,
   "metadata": {},
   "outputs": [],
   "source": [
    "ts.setupModel()"
   ]
  },
  {
   "cell_type": "code",
   "execution_count": 5,
   "metadata": {},
   "outputs": [],
   "source": [
    "# ts.loadModel()"
   ]
  },
  {
   "cell_type": "code",
   "execution_count": null,
   "metadata": {},
   "outputs": [
    {
     "name": "stdout",
     "output_type": "stream",
     "text": [
      "Epoch [5/50]], Loss: 0.000723, , Loss Val: 0.001649\n",
      "Epoch [10/50]], Loss: 0.002548, , Loss Val: 0.001865\n",
      "Epoch [15/50]], Loss: 0.000980, , Loss Val: 0.000465\n",
      "Epoch [20/50]], Loss: 0.002153, , Loss Val: 0.000994\n",
      "Epoch [25/50]], Loss: 0.000831, , Loss Val: 0.002148\n",
      "Epoch [30/50]], Loss: 0.001504, , Loss Val: 0.002014\n",
      "Epoch [35/50]], Loss: 0.000915, , Loss Val: 0.001395\n",
      "Epoch [40/50]], Loss: 0.000812, , Loss Val: 0.000998\n",
      "Epoch [45/50]], Loss: 0.001735, , Loss Val: 0.001248\n",
      "Epoch [50/50]], Loss: 0.000763, , Loss Val: 0.001636\n",
      "Epoch [5/100]], Loss: 0.000960, , Loss Val: 0.001428\n",
      "Epoch [10/100]], Loss: 0.000647, , Loss Val: 0.000649\n",
      "Epoch [15/100]], Loss: 0.000674, , Loss Val: 0.000952\n",
      "Epoch [20/100]], Loss: 0.000607, , Loss Val: 0.000975\n",
      "Epoch [25/100]], Loss: 0.001302, , Loss Val: 0.000631\n",
      "Epoch [30/100]], Loss: 0.000286, , Loss Val: 0.000618\n",
      "Epoch [35/100]], Loss: 0.000755, , Loss Val: 0.000786\n",
      "Epoch [40/100]], Loss: 0.001044, , Loss Val: 0.000852\n",
      "Epoch [45/100]], Loss: 0.001041, , Loss Val: 0.001179\n",
      "Epoch [50/100]], Loss: 0.000294, , Loss Val: 0.000456\n",
      "Epoch [55/100]], Loss: 0.000848, , Loss Val: 0.001177\n",
      "Epoch [60/100]], Loss: 0.001063, , Loss Val: 0.000453\n",
      "Epoch [65/100]], Loss: 0.000784, , Loss Val: 0.000370\n",
      "Epoch [70/100]], Loss: 0.000564, , Loss Val: 0.000622\n",
      "Epoch [75/100]], Loss: 0.001254, , Loss Val: 0.001547\n",
      "Epoch [80/100]], Loss: 0.000588, , Loss Val: 0.001404\n",
      "Epoch [85/100]], Loss: 0.000529, , Loss Val: 0.001120\n",
      "Epoch [90/100]], Loss: 0.001059, , Loss Val: 0.001501\n",
      "Epoch [95/100]], Loss: 0.001112, , Loss Val: 0.000596\n",
      "Epoch [100/100]], Loss: 0.001050, , Loss Val: 0.000307\n",
      "Epoch [5/200]], Loss: 0.000489, , Loss Val: 0.000613\n",
      "Epoch [10/200]], Loss: 0.001264, , Loss Val: 0.000659\n",
      "Epoch [15/200]], Loss: 0.000553, , Loss Val: 0.000470\n",
      "Epoch [20/200]], Loss: 0.000591, , Loss Val: 0.003042\n",
      "Epoch [25/200]], Loss: 0.000893, , Loss Val: 0.000883\n",
      "Epoch [30/200]], Loss: 0.001353, , Loss Val: 0.000791\n",
      "Epoch [35/200]], Loss: 0.001533, , Loss Val: 0.001256\n",
      "Epoch [40/200]], Loss: 0.001576, , Loss Val: 0.000447\n",
      "Epoch [45/200]], Loss: 0.000471, , Loss Val: 0.001447\n",
      "Epoch [50/200]], Loss: 0.000876, , Loss Val: 0.000659\n",
      "Epoch [55/200]], Loss: 0.000196, , Loss Val: 0.001161\n",
      "Epoch [60/200]], Loss: 0.000340, , Loss Val: 0.000396\n",
      "Epoch [65/200]], Loss: 0.000783, , Loss Val: 0.000272\n",
      "Epoch [70/200]], Loss: 0.000421, , Loss Val: 0.000314\n",
      "Epoch [75/200]], Loss: 0.000558, , Loss Val: 0.000215\n",
      "Epoch [80/200]], Loss: 0.000886, , Loss Val: 0.000437\n",
      "Epoch [85/200]], Loss: 0.000618, , Loss Val: 0.000288\n",
      "Epoch [90/200]], Loss: 0.000880, , Loss Val: 0.000737\n",
      "Epoch [95/200]], Loss: 0.001540, , Loss Val: 0.000566\n",
      "Epoch [100/200]], Loss: 0.000250, , Loss Val: 0.001416\n",
      "Epoch [105/200]], Loss: 0.000731, , Loss Val: 0.000701\n",
      "Epoch [110/200]], Loss: 0.001218, , Loss Val: 0.000821\n",
      "Epoch [115/200]], Loss: 0.001894, , Loss Val: 0.000400\n",
      "Epoch [120/200]], Loss: 0.001388, , Loss Val: 0.000306\n",
      "Epoch [125/200]], Loss: 0.000771, , Loss Val: 0.000400\n",
      "Epoch [130/200]], Loss: 0.002245, , Loss Val: 0.000637\n",
      "Epoch [135/200]], Loss: 0.000349, , Loss Val: 0.000696\n",
      "Epoch [140/200]], Loss: 0.001221, , Loss Val: 0.001103\n",
      "Epoch [145/200]], Loss: 0.001202, , Loss Val: 0.000526\n",
      "Epoch [150/200]], Loss: 0.000806, , Loss Val: 0.000478\n",
      "Epoch [155/200]], Loss: 0.000728, , Loss Val: 0.000618\n",
      "Epoch [160/200]], Loss: 0.000401, , Loss Val: 0.001432\n",
      "Epoch [165/200]], Loss: 0.000558, , Loss Val: 0.000834\n",
      "Epoch [170/200]], Loss: 0.000706, , Loss Val: 0.001146\n",
      "Epoch [175/200]], Loss: 0.000650, , Loss Val: 0.000549\n",
      "Epoch [180/200]], Loss: 0.000417, , Loss Val: 0.000794\n",
      "Epoch [185/200]], Loss: 0.000444, , Loss Val: 0.000667\n",
      "Epoch [190/200]], Loss: 0.000511, , Loss Val: 0.002007\n",
      "Epoch [195/200]], Loss: 0.000278, , Loss Val: 0.000230\n",
      "Epoch [200/200]], Loss: 0.000568, , Loss Val: 0.001585\n",
      "Epoch [5/400]], Loss: 0.000312, , Loss Val: 0.000349\n",
      "Epoch [10/400]], Loss: 0.000461, , Loss Val: 0.001814\n",
      "Epoch [15/400]], Loss: 0.000555, , Loss Val: 0.000415\n",
      "Epoch [20/400]], Loss: 0.000557, , Loss Val: 0.001438\n",
      "Epoch [25/400]], Loss: 0.000752, , Loss Val: 0.000925\n",
      "Epoch [30/400]], Loss: 0.000141, , Loss Val: 0.001739\n",
      "Epoch [35/400]], Loss: 0.000376, , Loss Val: 0.000577\n",
      "Epoch [40/400]], Loss: 0.000447, , Loss Val: 0.000489\n",
      "Epoch [45/400]], Loss: 0.000486, , Loss Val: 0.000442\n",
      "Epoch [50/400]], Loss: 0.000786, , Loss Val: 0.002228\n",
      "Epoch [55/400]], Loss: 0.000589, , Loss Val: 0.000758\n",
      "Epoch [60/400]], Loss: 0.000381, , Loss Val: 0.000903\n",
      "Epoch [65/400]], Loss: 0.001421, , Loss Val: 0.001367\n",
      "Epoch [70/400]], Loss: 0.000613, , Loss Val: 0.000673\n",
      "Epoch [75/400]], Loss: 0.000438, , Loss Val: 0.001372\n",
      "Epoch [80/400]], Loss: 0.000451, , Loss Val: 0.000455\n",
      "Epoch [85/400]], Loss: 0.000634, , Loss Val: 0.001290\n",
      "Epoch [90/400]], Loss: 0.000373, , Loss Val: 0.002324\n",
      "Epoch [95/400]], Loss: 0.000800, , Loss Val: 0.000413\n",
      "Epoch [100/400]], Loss: 0.000511, , Loss Val: 0.000433\n",
      "Epoch [105/400]], Loss: 0.000858, , Loss Val: 0.000453\n",
      "Epoch [110/400]], Loss: 0.000359, , Loss Val: 0.000764\n",
      "Epoch [115/400]], Loss: 0.001304, , Loss Val: 0.001626\n",
      "Epoch [120/400]], Loss: 0.001936, , Loss Val: 0.001357\n",
      "Epoch [125/400]], Loss: 0.001055, , Loss Val: 0.001017\n",
      "Epoch [130/400]], Loss: 0.000812, , Loss Val: 0.000843\n",
      "Epoch [135/400]], Loss: 0.000814, , Loss Val: 0.001064\n",
      "Epoch [140/400]], Loss: 0.001578, , Loss Val: 0.000939\n",
      "Epoch [145/400]], Loss: 0.001130, , Loss Val: 0.000294\n",
      "Epoch [150/400]], Loss: 0.001221, , Loss Val: 0.000628\n",
      "Epoch [155/400]], Loss: 0.000522, , Loss Val: 0.001293\n",
      "Epoch [160/400]], Loss: 0.000562, , Loss Val: 0.002969\n"
     ]
    }
   ],
   "source": [
    "ts.trainModel(learning_rate=1e-3, num_epochs=50)\n",
    "ts.trainModel(learning_rate=1e-4, num_epochs=100)\n",
    "ts.trainModel(learning_rate=1e-5, num_epochs=200)\n",
    "ts.trainModel(learning_rate=1e-6, num_epochs=400)"
   ]
  },
  {
   "cell_type": "code",
   "execution_count": null,
   "metadata": {},
   "outputs": [],
   "source": [
    "ts.saveModel()"
   ]
  },
  {
   "cell_type": "code",
   "execution_count": null,
   "metadata": {},
   "outputs": [],
   "source": [
    "for l_ind in range(3):\n",
    "\n",
    "    ts.model.eval()\n",
    "    test_errors = []\n",
    "    test_labels = []\n",
    "    test_predictions = []\n",
    "\n",
    "    running_loss1 = 0.0\n",
    "    with torch.no_grad():  # No need to track gradients during evaluation\n",
    "        for i, (inputsT, labelsT) in enumerate(ts.test_loader):\n",
    "            inputsT = inputsT.to(device)\n",
    "            labelsT = labelsT.to(device)[:,l_ind]\n",
    "            outputsT = ts.model(inputsT)[:,l_ind]\n",
    "            errorsT = outputsT - labelsT\n",
    "            test_errors.extend(errorsT.cpu().numpy())\n",
    "            test_labels.extend(labelsT.view(-1).tolist())\n",
    "            test_predictions.extend(outputsT.view(-1).tolist())\n",
    "            lossV = ts.criterion(outputsT, labelsT)\n",
    "            running_loss1 += lossV.cpu().item()\n",
    "\n",
    "    train_errors = []\n",
    "    train_labels = []\n",
    "    train_predictions = []\n",
    "    with torch.no_grad():  # No need to track gradients during evaluation\n",
    "        for i, (inputs, labels) in enumerate(ts.train_loader):\n",
    "            inputs = inputs.to(device)\n",
    "            labels = labels.to(device)[:,l_ind]\n",
    "            outputs = ts.model(inputs)[:,l_ind]\n",
    "            # Compute the error for each sample\n",
    "            errors = outputs - labels\n",
    "            train_errors.extend(errors.view(-1).tolist())\n",
    "            train_labels.extend(labels.view(-1).tolist())\n",
    "            train_predictions.extend(outputs.view(-1).tolist())\n",
    "            if i==0:\n",
    "                pp = inputs[1].cpu().numpy()\n",
    "                plt.plot(pp)\n",
    "                plt.show()\n",
    "\n",
    "    #plt.plot(test_errors1)\n",
    "    #plt.plot(train_errors)\n",
    "    #plt.show()\n",
    "    test_labels = np.array(test_labels)\n",
    "    train_labels = np.array(train_labels)\n",
    "    test_predictions = np.array(test_predictions)\n",
    "    train_predictions = np.array(train_predictions)\n",
    "\n",
    "    plt.scatter(test_labels, test_predictions)\n",
    "    plt.scatter(train_labels, train_predictions)\n",
    "\n",
    "    plt.scatter(test_labels, test_labels)\n",
    "\n",
    "    test_abs_errors = np.abs(test_errors)\n",
    "    train_abs_errors = np.abs(train_errors)\n",
    "    print(\"Mean/Median Absolute error TEST:\", np.mean(test_abs_errors), np.median(test_abs_errors))\n",
    "    print(\"Mean/Median Absolute error TRAIN:\", np.mean(train_abs_errors), np.median(train_abs_errors))\n",
    "\n",
    "    print(\"R^2\", 1-np.mean(np.square(test_abs_errors))/np.var(test_labels))\n",
    "\n",
    "    test_labels[test_labels == 0.0] = 1\n",
    "    train_labels[train_labels == 0.0] = 1\n",
    "    print(\"Mean/Median Relative error TEST:\", np.mean(np.abs(test_errors)/np.abs(test_labels)), np.median(np.abs(test_errors)/np.abs(test_labels)))\n",
    "    print(\"Mean/Median Relative error TRAIN:\", np.mean(np.abs(train_errors)/np.abs(train_labels)), np.median(np.abs(train_errors)/np.abs(train_labels)))\n",
    "    #plt.ylim(0, 1)\n",
    "    #plt.xlim(0, 1)\n",
    "    plt.show()"
   ]
  },
  {
   "cell_type": "code",
   "execution_count": null,
   "metadata": {},
   "outputs": [],
   "source": [
    "# Example usage\n",
    "#ts.criterion = nn.MSELoss(reduction='none')  # Set reduction='none' to get individual errors\n",
    "test_errors, test_labels, test_predictions = ts.testModel()\n",
    "plt.plot(test_errors)\n",
    "plt.show()\n",
    "print(np.mean(np.abs(test_errors)))\n",
    "plt.scatter(test_labels, test_predictions)"
   ]
  },
  {
   "cell_type": "code",
   "execution_count": null,
   "metadata": {},
   "outputs": [],
   "source": [
    "print( torch.std_mean(ts.data_loader.labels) )\n",
    "olStd, olMean  = torch.std_mean(ts.data_loader.data, dim=1 )\n",
    "#print( ts.data_loader.labels )\n",
    "#print( olMean )\n",
    "#print( olStd )\n",
    "print( olMean.shape, olStd.shape )"
   ]
  },
  {
   "cell_type": "code",
   "execution_count": null,
   "metadata": {},
   "outputs": [],
   "source": [
    "import matplotlib.pyplot as plt\n",
    "\n",
    "bins = 20\n",
    "t = torch.tensor([0., 0., 1., 1., 0., 1., 1., 0., 0., 0.])\n",
    "hist = torch.histc(ts.data_loader.labels, bins=bins, min=0, max=2)\n",
    "x = range(bins)\n",
    "plt.bar(x, hist, align='center')\n",
    "plt.xlabel('Bins')"
   ]
  },
  {
   "cell_type": "code",
   "execution_count": null,
   "metadata": {},
   "outputs": [],
   "source": [
    "print( ts.data_loader.labels.shape )\n",
    "print( olMean[:,0].shape)\n",
    "#print( olStd )\n",
    "#plt.scatter(torch.sqrt(torch.sum(torch.square(olMean), axis=1)), ts.data_loader.labels )\n",
    "plt.scatter(torch.sum(torch.square(olStd), axis=1), ts.data_loader.labels, s=4 )\n",
    "plt.ylim(0, 2.)\n",
    "plt.xlim(0, 2000*1000)\n",
    "plt.show()"
   ]
  },
  {
   "cell_type": "code",
   "execution_count": null,
   "metadata": {},
   "outputs": [],
   "source": [
    "#print( olStd )\n",
    "olStd[390,:] = 0\n",
    "\n",
    "plt.plot(olStd[:,0])\n",
    "plt.plot(olStd[:,1])\n",
    "plt.plot(olStd[:,2])\n",
    "plt.plot(olStd[:,3])\n",
    "plt.ylim(0, 2000)\n",
    "\n",
    "plt.show()"
   ]
  },
  {
   "cell_type": "code",
   "execution_count": null,
   "metadata": {},
   "outputs": [],
   "source": [
    "import torch.nn.functional as F\n",
    "\n",
    "alldata = ts.data_loader.data.numpy()\n",
    "print(alldata.shape)\n",
    "red1 = np.sqrt(np.sum(np.square(ts.data_loader.data.numpy()), axis=1))\n",
    "print(red1.shape)\n",
    "pp_sum = np.mean(red1, axis=0)\n",
    "print(pp_sum.shape)\n",
    "plt.plot(np.log(pp_sum))\n",
    "plt.show()\n",
    "\n",
    "for ii in range(0,10,1):\n",
    "    pp = ts.data_loader.data[77, :, ii].numpy()\n",
    "    plt.plot(pp)\n",
    "\n",
    "plt.show()\n",
    "\n",
    "#for ii in range(10):\n",
    "#    plt.plot(torch.sqrt(torch.sum(torch.square(ts.data_loader.data[ii, :, :]), axis=1)))\n",
    "#    plt.axhline(y=ts.data_loader.labels[ii].data*1e3, color='r', linestyle='-')\n",
    "#    plt.show()\n",
    "\n",
    "#plt.plot(ts.data_loader.data[77, :, 4])\n",
    "#plt.plot(ts.data_loader.data[77, :, 5])\n"
   ]
  },
  {
   "cell_type": "code",
   "execution_count": null,
   "metadata": {},
   "outputs": [],
   "source": []
  }
 ],
 "metadata": {
  "kernelspec": {
   "display_name": "Python 3 (ipykernel)",
   "language": "python",
   "name": "python3"
  },
  "language_info": {
   "codemirror_mode": {
    "name": "ipython",
    "version": 3
   },
   "file_extension": ".py",
   "mimetype": "text/x-python",
   "name": "python",
   "nbconvert_exporter": "python",
   "pygments_lexer": "ipython3",
   "version": "3.11.4"
  }
 },
 "nbformat": 4,
 "nbformat_minor": 4
}
