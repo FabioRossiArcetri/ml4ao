{
 "cells": [
  {
   "cell_type": "code",
   "execution_count": 1,
   "id": "700eeeb1-0fbe-4230-acfc-6b8397261b81",
   "metadata": {},
   "outputs": [],
   "source": [
    "#!/usr/bin/python3\n",
    "\n",
    "import sys,os\n",
    "import numpy as np\n",
    "import pandas as pd\n",
    "import matplotlib\n",
    "#matplotlib.use('Agg')\n",
    "import matplotlib.pyplot as plt\n",
    "import matplotlib.ticker as mticker\n",
    "import mpl_scatter_density\n",
    "from matplotlib.colors import LinearSegmentedColormap\n",
    "from matplotlib.colors import ListedColormap\n",
    "from mpl_toolkits.axes_grid1 import make_axes_locatable\n",
    "\n",
    "def MAPE(data,prediction):\n",
    "    mask= ~np.isnan(data)\n",
    "    mape = np.mean(np.abs((data - prediction)/data)[mask])*100\n",
    "    return mape\n",
    "\n",
    "def colorbar(mappable,dolabel=''):\n",
    "    ax = mappable.axes\n",
    "    fig = ax.figure\n",
    "    divider = make_axes_locatable(ax)\n",
    "    cax = divider.append_axes(\"right\", size=\"5%\", pad=0.05)\n",
    "    return fig.colorbar(mappable, cax=cax, label=dolabel)\n",
    "\n",
    "# \"Viridis-like\" colormap with white background\n",
    "white_viridis = LinearSegmentedColormap.from_list('white_viridis', [\n",
    "    (0, '#ffffff'),\n",
    "    (1e-20, '#440053'),\n",
    "    (0.2, '#404388'),\n",
    "    (0.4, '#2a788e'),\n",
    "    (0.6, '#21a784'),\n",
    "    (0.8, '#78d151'),\n",
    "    (1, '#fde624'),\n",
    "], N=256)\n",
    "\n",
    "acmap = matplotlib.colormaps.get_cmap('gist_ncar_r')\n",
    "acmap = matplotlib.colormaps.get_cmap('viridis')\n",
    "colors=acmap(np.arange(acmap.N))\n",
    "newcolors=colors.copy()\n",
    "newcolors[0]=[1.   , 1.   , 1., 1.   ]\n",
    "white_gist_ncar_r = ListedColormap(newcolors)"
   ]
  },
  {
   "cell_type": "code",
   "execution_count": 2,
   "id": "7716bfb0-740f-4815-9439-5b59aed36d2e",
   "metadata": {},
   "outputs": [
    {
     "name": "stdout",
     "output_type": "stream",
     "text": [
      "['DateTime', 'wind speed mean (TRUE)', 'wind LEVEL 1 (TRUE)', 'wind LEVEL 2 (TRUE)', 'wind LEVEL 3 (TRUE)', 'wind LEVEL 4 (TRUE)', 'wind speed (EST)', 'r0 TRUE[m]', 'r0 EST[m]', 'seeing TRUE[arcsec]', 'seeing EST[arcsec]', 'SR TRUE[frac]', 'SR EST[frac]', 'total time [s]', 'controlled modes']\n",
      "MAPE wind speed mean (TRUE)= 310.6937784936467\n",
      "MAPE wind LEVEL 1 (TRUE)= 766.0596387834516\n",
      "MAPE wind LEVEL 2 (TRUE)= 617.1535040477653\n",
      "MAPE wind LEVEL 3 (TRUE)= 599.16407760259\n",
      "MAPE wind LEVEL 4 (TRUE)= 115.30258716084869\n",
      "MAPE r0 TRUE[m]= 39.51271830867803\n",
      "MAPE seeing TRUE[arcsec]= 12.915707827927855\n",
      "MAPE SR TRUE[frac]= 31.84440469701598\n"
     ]
    }
   ],
   "source": [
    "DF=pd.read_csv('/raid1/ml4ao/run_analytic/V4/RUN_V4_ANALYTIC_ESTIMATES.csv')\n",
    "\n",
    "print(DF.columns.to_list())\n",
    "['DateTime', 'wind speed mean (TRUE)', 'wind LEVEL 1 (TRUE)', 'wind LEVEL 2 (TRUE)', 'wind LEVEL 3 (TRUE)', 'wind LEVEL 4 (TRUE)', 'wind speed (EST)', 'r0 TRUE[m]', 'r0 EST[m]', 'seeing TRUE[arcsec]', 'seeing EST[arcsec]', 'SR TRUE[frac]', 'SR EST[frac]', 'total time [s]', 'controlled modes']\n",
    "\n",
    "ANALYSIS_DICT={}\n",
    "ANALYSIS_DICT['wind speed mean (TRUE)']='wind speed (EST)'\n",
    "ANALYSIS_DICT['wind LEVEL 1 (TRUE)']='wind speed (EST)'\n",
    "ANALYSIS_DICT['wind LEVEL 2 (TRUE)']='wind speed (EST)'\n",
    "ANALYSIS_DICT['wind LEVEL 3 (TRUE)']='wind speed (EST)'\n",
    "ANALYSIS_DICT['wind LEVEL 4 (TRUE)']='wind speed (EST)'\n",
    "ANALYSIS_DICT['r0 TRUE[m]']='r0 EST[m]'\n",
    "ANALYSIS_DICT['seeing TRUE[arcsec]']='seeing EST[arcsec]'\n",
    "ANALYSIS_DICT['SR TRUE[frac]']='SR EST[frac]'\n",
    "\n",
    "for key in ANALYSIS_DICT:\n",
    "    mape_value=MAPE(DF[key].values,DF[ANALYSIS_DICT[key]].values)\n",
    "    print('MAPE '+key+'=',mape_value)\n",
    "\n",
    "my_dpi=300\n",
    "font_size=12"
   ]
  },
  {
   "cell_type": "code",
   "execution_count": 3,
   "id": "d6ac739b-284d-4c16-a50a-e3d823ca33cd",
   "metadata": {},
   "outputs": [
    {
     "name": "stderr",
     "output_type": "stream",
     "text": [
      "/opt/anaconda3/envs/base11/lib/python3.11/site-packages/mpl_scatter_density/generic_density_artist.py:77: RuntimeWarning: All-NaN slice encountered\n",
      "  vmin = self._density_vmin(array)\n",
      "/opt/anaconda3/envs/base11/lib/python3.11/site-packages/mpl_scatter_density/generic_density_artist.py:82: RuntimeWarning: All-NaN slice encountered\n",
      "  vmax = self._density_vmax(array)\n"
     ]
    },
    {
     "name": "stdout",
     "output_type": "stream",
     "text": [
      "Creato file con plot: wind speed mean (TRUE)_wind speed (EST)_scatter.png\n",
      "Creato file con plot: wind LEVEL 1 (TRUE)_wind speed (EST)_scatter.png\n",
      "Creato file con plot: wind LEVEL 2 (TRUE)_wind speed (EST)_scatter.png\n",
      "Creato file con plot: wind LEVEL 3 (TRUE)_wind speed (EST)_scatter.png\n",
      "Creato file con plot: wind LEVEL 4 (TRUE)_wind speed (EST)_scatter.png\n",
      "Creato file con plot: r0 TRUE[m]_r0 EST[m]_scatter.png\n",
      "Creato file con plot: seeing TRUE[arcsec]_seeing EST[arcsec]_scatter.png\n",
      "Creato file con plot: SR TRUE[frac]_SR EST[frac]_scatter.png\n"
     ]
    }
   ],
   "source": [
    "for key in ANALYSIS_DICT:\n",
    "\n",
    "    mask= ~np.isnan(DF[key].values)\n",
    "\n",
    "    title_label=\"\"\n",
    "    fig=plt.figure(figsize=(2000./my_dpi, 2000./my_dpi), dpi=my_dpi)\n",
    "    ax1 = plt.subplot(1,1,1, projection='scatter_density')\n",
    "    plt.rcParams['axes.labelsize'] = font_size\n",
    "    plt.rcParams['xtick.labelsize'] = font_size\n",
    "    plt.rcParams['ytick.labelsize'] = font_size\n",
    "    density=ax1.scatter_density(DF[key].values[mask],DF[ANALYSIS_DICT[key]].values[mask],cmap=white_viridis)\n",
    "#    density=ax1.scatter_density(DF[key].values,DF[ANALYSIS_DICT[key]].values,cmap=white_gist_ncar_r)\n",
    "\n",
    "    colorbar(density,dolabel='Number of points per pixel')\n",
    "    xlim=ax1.get_xlim()\n",
    "    ylim=ax1.get_ylim()\n",
    "    limlow=min(xlim[0],ylim[0])\n",
    "    limhigh=max(xlim[1],ylim[1])\n",
    "    plt.xlim(limlow,limhigh)\n",
    "    plt.ylim(limlow,limhigh)\n",
    "    ax1.plot([limlow,limhigh], [limlow,limhigh],color='k',lw=1,ls='dashed')\n",
    "    #ax1.plot([0, 1], [0, 1], transform=ax1.transAxes, color='k',lw=2,ls='dashed')\n",
    "#plt.scatter(CatalogDf['teff_spectro'].values,CatalogDf['PredictedTemp'].values)\n",
    "    plt.tick_params(which='both')\n",
    "    plt.tick_params(which='major', length=7)\n",
    "    plt.tick_params(which='minor', length=4)\n",
    "    plt.minorticks_on()\n",
    "#    plt.title(title_label,fontsize=font_size+1.4, y=1.15)\n",
    "#plt.xlabel(\"Spectroscopic Teff (K)\",fontsize=font_size+1)\n",
    "#plt.ylabel('ML predicted Teff (K)',fontsize=font_size+2)\n",
    "    ax1.set_xlabel(key,fontsize=font_size+1)\n",
    "    ax1.set_ylabel(ANALYSIS_DICT[key],fontsize=font_size+2)\n",
    "    plt.tight_layout()\n",
    "    #ax1.set_aspect('equal', 'box')\n",
    "    ax1.set_xlim(limlow,limhigh)\n",
    "    ax1.set_ylim(limlow,limhigh)\n",
    "\n",
    "    fileout=key+'_'+ANALYSIS_DICT[key]+'_scatter.png'\n",
    "    plt.savefig(fileout,dpi=my_dpi)\n",
    "    print(\"Creato file con plot:\", fileout)\n",
    "    plt.close()"
   ]
  },
  {
   "cell_type": "code",
   "execution_count": 4,
   "id": "3f1878b1-8f08-4b50-bf11-ae0db5257e88",
   "metadata": {},
   "outputs": [],
   "source": [
    "r0_avg = 0.60\n",
    "dr0 = 0.038\n",
    "r0_min = r0_avg - dr0\n",
    "r0_max = r0_avg + dr0\n",
    "\n",
    "seeing_avg = 0.9759 * 0.5/(r0_avg*4.848)\n",
    "seeing_max = 0.9759 * 0.5/(r0_min*4.848)\n",
    "seeing_min = 0.9759 * 0.5/(r0_max*4.848)"
   ]
  },
  {
   "cell_type": "code",
   "execution_count": 5,
   "id": "e0e3a6c3-2412-4c29-9477-f5a9404ff19a",
   "metadata": {},
   "outputs": [
    {
     "name": "stdout",
     "output_type": "stream",
     "text": [
      "0.15775823271982373 0.17909208625488887\n"
     ]
    }
   ],
   "source": [
    "print(seeing_min, seeing_max)"
   ]
  },
  {
   "cell_type": "code",
   "execution_count": 6,
   "id": "7c8f3ae6-8bab-4021-8a5d-b882692093f7",
   "metadata": {},
   "outputs": [
    {
     "name": "stdout",
     "output_type": "stream",
     "text": [
      "0.06358839344481759\n"
     ]
    }
   ],
   "source": [
    "print(0.5 * (seeing_max-seeing_min)/seeing_avg)"
   ]
  },
  {
   "cell_type": "code",
   "execution_count": 7,
   "id": "607b8a76-a5b5-4446-a2f7-47f7a52eea40",
   "metadata": {},
   "outputs": [
    {
     "name": "stdout",
     "output_type": "stream",
     "text": [
      "0.010666926767532572\n"
     ]
    }
   ],
   "source": [
    "print(0.5 * (seeing_max-seeing_min))"
   ]
  },
  {
   "cell_type": "code",
   "execution_count": 8,
   "id": "725e1b1a-dff8-4fff-bed6-9b881344afe5",
   "metadata": {},
   "outputs": [],
   "source": [
    "import matplotlib.pyplot as plt \n",
    "import numpy as np \n",
    "\n"
   ]
  },
  {
   "cell_type": "code",
   "execution_count": 19,
   "id": "b5d7eca7-c2d7-4635-9e95-4bc3c48f4616",
   "metadata": {},
   "outputs": [
    {
     "data": {
      "image/png": "[encoded data removed]",
      "text/plain": [
       "<Figure size 432x288 with 1 Axes>"
      ]
     },
     "metadata": {
      "needs_background": "light"
     },
     "output_type": "display_data"
    }
   ],
   "source": [
    "z = np.linspace(14, 21, 1900) \n",
    "def sigmoid(z):\n",
    "    return 900.0/(1 + np.exp((z-17.5)*5)) + 100\n",
    "\n",
    "a = sigmoid(z)\n",
    "plt.plot(z, a) \n",
    "plt.xlabel(\"z\") \n",
    "plt.ylabel(\"sigmoid(z)\")\n",
    "plt.grid(True)\n",
    "plt.show()"
   ]
  },
  {
   "cell_type": "code",
   "execution_count": null,
   "id": "ad11d748-e311-4d7e-8ff7-6f2f7820b4ef",
   "metadata": {},
   "outputs": [],
   "source": []
  }
 ],
 "metadata": {
  "kernelspec": {
   "display_name": "Python 3 (ipykernel)",
   "language": "python",
   "name": "python3"
  },
  "language_info": {
   "codemirror_mode": {
    "name": "ipython",
    "version": 3
   },
   "file_extension": ".py",
   "mimetype": "text/x-python",
   "name": "python",
   "nbconvert_exporter": "python",
   "pygments_lexer": "ipython3",
   "version": "3.11.4"
  }
 },
 "nbformat": 4,
 "nbformat_minor": 5
}
