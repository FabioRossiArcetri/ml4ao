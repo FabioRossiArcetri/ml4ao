{
 "cells": [
  {
   "cell_type": "code",
   "execution_count": 1,
   "id": "d20cbed4",
   "metadata": {},
   "outputs": [],
   "source": [
    "import pandas as pd\n",
    "import os\n",
    "import torch\n",
    "import numpy as np"
   ]
  },
  {
   "cell_type": "code",
   "execution_count": 2,
   "id": "52ac8ee1",
   "metadata": {},
   "outputs": [],
   "source": [
    "data_path = '/raid1/ml4ao/pickle/'"
   ]
  },
  {
   "cell_type": "code",
   "execution_count": 3,
   "id": "6df51625",
   "metadata": {},
   "outputs": [],
   "source": [
    "filename = '20230726_204805.0.pkl'\n",
    "file_path = os.path.join(data_path, filename)\n",
    "oneTN = pd.read_pickle(file_path)"
   ]
  },
  {
   "cell_type": "code",
   "execution_count": 4,
   "id": "ad52a37d",
   "metadata": {},
   "outputs": [
    {
     "name": "stdout",
     "output_type": "stream",
     "text": [
      "dict_keys(['date', 'ccdframes', 'deltaComm', 'resVar', 'srRes', 'comm', 'meanFlux', 'resMod', 'slopes', 'PYRAMID', 'SEEING', 'MODALREC', 'PUPIL_STOP', 'DETECTOR', 'MAIN', 'WIND_DIRECTION', 'MODALANALYSIS', 'DM', 'WFS_SOURCE', 'WIND_SPEED', 'SLOPEC', 'CAMERA', 'CONTROL', 'ATMO'])\n"
     ]
    }
   ],
   "source": [
    "print(oneTN.keys())"
   ]
  },
  {
   "cell_type": "code",
   "execution_count": 5,
   "id": "32701a6d",
   "metadata": {},
   "outputs": [
    {
     "data": {
      "text/plain": [
       "(500, 1801)"
      ]
     },
     "execution_count": 5,
     "metadata": {},
     "output_type": "execute_result"
    }
   ],
   "source": [
    "oneTN['deltaComm'][0].shape"
   ]
  },
  {
   "cell_type": "code",
   "execution_count": 7,
   "id": "335c6700",
   "metadata": {},
   "outputs": [
    {
     "data": {
      "text/plain": [
       "{'WAVELENGTHINNM': 1650, 'ND': 3}"
      ]
     },
     "execution_count": 7,
     "metadata": {},
     "output_type": "execute_result"
    }
   ],
   "source": [
    "oneTN['CAMERA'][0]"
   ]
  },
  {
   "cell_type": "code",
   "execution_count": 7,
   "id": "744c15ed",
   "metadata": {},
   "outputs": [
    {
     "name": "stdout",
     "output_type": "stream",
     "text": [
      "9199\n"
     ]
    }
   ],
   "source": [
    "allTNs = os.listdir(data_path)\n",
    "print(len(allTNs))"
   ]
  },
  {
   "cell_type": "code",
   "execution_count": 8,
   "id": "cea82864",
   "metadata": {},
   "outputs": [],
   "source": [
    "X_tensor = torch.zeros(9199, 1799, 100)  # Random tensor for demonstration\n",
    "Y_tensor = torch.zeros(9199, 1)  # Random tensor for demonstration"
   ]
  },
  {
   "cell_type": "code",
   "execution_count": null,
   "id": "d1993819",
   "metadata": {},
   "outputs": [
    {
     "name": "stdout",
     "output_type": "stream",
     "text": [
      "0\n",
      "100\n",
      "200\n",
      "300\n",
      "400\n",
      "500\n",
      "600\n"
     ]
    }
   ],
   "source": [
    "# ol_modes = deltaComm[2:*,*] + comm[0:-3,*]\n",
    "\n",
    "for ii, tn in enumerate(allTNs):\n",
    "    file_path = os.path.join(data_path, tn)\n",
    "    oneTN = pd.read_pickle(file_path)\n",
    "#    print(oneTN['deltaComm'][0].shape, type(oneTN['deltaComm'][0]), oneTN['SEEING'][0]['CONSTANT'])\n",
    "    Y_tensor[ii] = oneTN['SEEING'][0]['CONSTANT']\n",
    "    deltaComm = np.transpose(oneTN['deltaComm'][0])\n",
    "    comm = np.transpose(oneTN['comm'][0])\n",
    "#    print(deltaComm.shape, comm.shape)    \n",
    "    ol_modes = deltaComm[2:,:] + comm[:-2,:]\n",
    "    X_tensor[ii] =  torch.from_numpy(ol_modes[:,:100])\n",
    "    if ii%100==0:\n",
    "        print(ii)"
   ]
  },
  {
   "cell_type": "code",
   "execution_count": null,
   "id": "4430270a",
   "metadata": {},
   "outputs": [],
   "source": [
    "data_path = '/raid1/ml4ao/torch_data/'"
   ]
  },
  {
   "cell_type": "code",
   "execution_count": null,
   "id": "2b9cd518",
   "metadata": {},
   "outputs": [],
   "source": [
    "print(X_tensor)\n",
    "print(Y_tensor)"
   ]
  },
  {
   "cell_type": "code",
   "execution_count": null,
   "id": "156e8264",
   "metadata": {},
   "outputs": [],
   "source": [
    "torch.save(X_tensor, os.path.join(data_path, 'tensor_data_olmodes.pt'))\n",
    "torch.save(Y_tensor, os.path.join(data_path, 'tensor_seeing.pt'))"
   ]
  },
  {
   "cell_type": "code",
   "execution_count": null,
   "id": "b043dcb5",
   "metadata": {},
   "outputs": [],
   "source": []
  },
  {
   "cell_type": "code",
   "execution_count": null,
   "id": "df71da31",
   "metadata": {},
   "outputs": [],
   "source": []
  }
 ],
 "metadata": {
  "kernelspec": {
   "display_name": "Python 3 (ipykernel)",
   "language": "python",
   "name": "python3"
  },
  "language_info": {
   "codemirror_mode": {
    "name": "ipython",
    "version": 3
   },
   "file_extension": ".py",
   "mimetype": "text/x-python",
   "name": "python",
   "nbconvert_exporter": "python",
   "pygments_lexer": "ipython3",
   "version": "3.11.4"
  }
 },
 "nbformat": 4,
 "nbformat_minor": 5
}
